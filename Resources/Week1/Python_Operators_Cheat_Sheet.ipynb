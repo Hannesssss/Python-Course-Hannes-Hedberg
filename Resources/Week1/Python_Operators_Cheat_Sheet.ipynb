{
 "cells": [
  {
   "cell_type": "markdown",
   "metadata": {},
   "source": [
    "# Week 1 Resources"
   ]
  },
  {
   "cell_type": "markdown",
   "metadata": {},
   "source": [
    "## 0. User input"
   ]
  },
  {
   "cell_type": "code",
   "execution_count": 1,
   "metadata": {},
   "outputs": [
    {
     "name": "stdout",
     "output_type": "stream",
     "text": [
      "Username is hans\n"
     ]
    }
   ],
   "source": [
    "username = input(\"Enter username: \")\n",
    "print (\"Username is \" + username)"
   ]
  },
  {
   "cell_type": "markdown",
   "metadata": {},
   "source": [
    "## 1. Python Operators\n",
    "\n",
    "https://www.w3schools.com/python/python_operators.asp"
   ]
  },
  {
   "cell_type": "markdown",
   "metadata": {},
   "source": [
    "### 1.1 Arithmetic Operators"
   ]
  },
  {
   "cell_type": "markdown",
   "metadata": {},
   "source": [
    "Arithmetic operators are used with numeric values to perform common mathematical operations:\n",
    "\n",
    "- .+ = Addition\n",
    "- .- = Subtraction\n",
    "- .* = Multiplication\n",
    "- ./ = Division\n",
    "- .% = Modulus\n",
    "- .** = Exponentitation \n",
    "- .// = Floor division\n",
    "\n",
    "**Modulus:** a % b, It returns the remainder of dividing the left hand operand [a] by right hand operand [b]. It's used to get the remainder of a division problem. \n",
    "\n",
    "Example 7 % 2 = 1, Two goes into seven three times and there is one left over.\n",
    "\n",
    "**Floor division** a//b rounds the result down to the nearest whole number\n",
    "\n",
    "Example 15//2 = 7"
   ]
  },
  {
   "cell_type": "code",
   "execution_count": 9,
   "metadata": {},
   "outputs": [
    {
     "name": "stdout",
     "output_type": "stream",
     "text": [
      "15 -5\n",
      "15\n",
      "-5\n",
      "50\n",
      "0.5\n",
      "5\n",
      "9765625\n",
      "0\n",
      "15 -5 50 0.5 5 9765625 0\n"
     ]
    }
   ],
   "source": [
    "# Examples\n",
    "\n",
    "x = 5\n",
    "y = 10\n",
    "\n",
    "print(x + y, x - y)\n",
    "\n",
    "print(x + y) # Addition\n",
    "print(x - y) # Subtraction\n",
    "print(x * y) # Multiplication\n",
    "print(x / y) # Division\n",
    "print(x % y) # Modulus\n",
    "print(x ** y) # Exponentiation\n",
    "print(x // y) # Floor division\n",
    "\n",
    "print(x + y, x - y, x * y, x / y, x % y, x ** y, x // y)\n"
   ]
  },
  {
   "cell_type": "markdown",
   "metadata": {},
   "source": [
    "### 1.2 Assignment Operators"
   ]
  },
  {
   "cell_type": "markdown",
   "metadata": {},
   "source": [
    "Assignment operators are used to assign values to variables:\n",
    "\n",
    "[insert markdown list]"
   ]
  },
  {
   "cell_type": "code",
   "execution_count": 3,
   "metadata": {},
   "outputs": [],
   "source": [
    "x = 5 # (x = 5)\n",
    "x += 3 # (x = x + 3)\n",
    "x -= 3 # (x = x - 3)\n",
    "x *= 3 # (x = x*3)\n",
    "x /= 3 # (x = x/3)\n",
    "x %= 3 # (x = x % 3)\n",
    "x //= 3 # (x = x // 3)\n",
    "x **= 3 # (x = x ** 3)\n",
    "x &= 3 # (x = x & 3)\n",
    "x |= 3 # (x = x | 3)\n",
    "x ^= 3 # (x = x ^ 3)\n",
    "x >>= 3 # (\tx = x >> 3)\n",
    "x <<= 3 # (x = x << 3)"
   ]
  },
  {
   "cell_type": "code",
   "execution_count": 10,
   "metadata": {},
   "outputs": [
    {
     "name": "stdout",
     "output_type": "stream",
     "text": [
      "8\n",
      "2\n",
      "15\n",
      "1.6666666666666667\n",
      "2\n",
      "1\n",
      "125\n"
     ]
    }
   ],
   "source": [
    "# Simple examples\n",
    "\n",
    "x = 5\n",
    "x += 3\n",
    "print(x)\n",
    "\n",
    "x = 5\n",
    "x -= 3\n",
    "print(x)\n",
    "\n",
    "x = 5\n",
    "x *= 3\n",
    "print(x)\n",
    "\n",
    "x = 5\n",
    "x /= 3\n",
    "print(x)\n",
    "\n",
    "x = 5\n",
    "x%=3\n",
    "print(x)\n",
    "\n",
    "x = 5\n",
    "x//=3\n",
    "print(x)\n",
    "\n",
    "x = 5\n",
    "x **= 3\n",
    "print(x)"
   ]
  },
  {
   "cell_type": "code",
   "execution_count": 12,
   "metadata": {},
   "outputs": [
    {
     "name": "stdout",
     "output_type": "stream",
     "text": [
      "1\n",
      "7\n",
      "6\n",
      "0\n",
      "40\n"
     ]
    }
   ],
   "source": [
    "# Advanced examples\n",
    "\n",
    "x = 5\n",
    "x &= 3\n",
    "print(x)\n",
    "\n",
    "x = 5\n",
    "x |= 3\n",
    "print(x)\n",
    "\n",
    "x = 5\n",
    "x ^= 3\n",
    "print(x)\n",
    "\n",
    "x = 5\n",
    "x >>= 3\n",
    "print(x)\n",
    "\n",
    "x = 5\n",
    "x <<= 3\n",
    "print(x)"
   ]
  },
  {
   "cell_type": "markdown",
   "metadata": {},
   "source": [
    "### 1.3 Python Comparison Operators"
   ]
  },
  {
   "cell_type": "markdown",
   "metadata": {},
   "source": [
    "Comparison operators are used to compare two values:\n",
    "\n",
    "[insert markdown list]"
   ]
  },
  {
   "cell_type": "code",
   "execution_count": null,
   "metadata": {},
   "outputs": [],
   "source": [
    "x == y # Equal\n",
    "x != y # Not Equal\n",
    "x > y # Greather than\n",
    "x < y # Less than\n",
    "x >= y # Greater than or equal to\n",
    "x <= y # Less than or equal to  "
   ]
  },
  {
   "cell_type": "code",
   "execution_count": 2,
   "metadata": {},
   "outputs": [
    {
     "name": "stdout",
     "output_type": "stream",
     "text": [
      "True\n"
     ]
    }
   ],
   "source": [
    "x = 5\n",
    "y = 5\n",
    "x == y\n",
    "print(x==y)"
   ]
  },
  {
   "cell_type": "markdown",
   "metadata": {},
   "source": [
    "### 1.4 Python Logical Operators"
   ]
  },
  {
   "cell_type": "markdown",
   "metadata": {},
   "source": [
    "Logical operators are used to combine conditional statements:"
   ]
  },
  {
   "cell_type": "code",
   "execution_count": null,
   "metadata": {},
   "outputs": [],
   "source": []
  }
 ],
 "metadata": {
  "kernelspec": {
   "display_name": "Python 3.9.13 ('Python-Course-Hannes-Hedberg-29FBIT1T')",
   "language": "python",
   "name": "python3"
  },
  "language_info": {
   "codemirror_mode": {
    "name": "ipython",
    "version": 3
   },
   "file_extension": ".py",
   "mimetype": "text/x-python",
   "name": "python",
   "nbconvert_exporter": "python",
   "pygments_lexer": "ipython3",
   "version": "3.9.13"
  },
  "orig_nbformat": 4,
  "vscode": {
   "interpreter": {
    "hash": "c225418382cb9b5ed327af108c087245f0400ef7b129ef9d64855923a1b90743"
   }
  }
 },
 "nbformat": 4,
 "nbformat_minor": 2
}
