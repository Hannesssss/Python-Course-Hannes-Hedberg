{
 "cells": [
  {
   "cell_type": "markdown",
   "metadata": {},
   "source": [
    "# Week 1 Resources"
   ]
  },
  {
   "cell_type": "markdown",
   "metadata": {},
   "source": [
    "### 0. User input"
   ]
  },
  {
   "cell_type": "code",
   "execution_count": 1,
   "metadata": {},
   "outputs": [
    {
     "name": "stdout",
     "output_type": "stream",
     "text": [
      "Username is hans\n"
     ]
    }
   ],
   "source": [
    "username = input(\"Enter username: \")\n",
    "print (\"Username is \" + username)"
   ]
  },
  {
   "cell_type": "markdown",
   "metadata": {},
   "source": [
    "### 1. Python Operators"
   ]
  },
  {
   "cell_type": "markdown",
   "metadata": {},
   "source": [
    "### 1.1 Arithmetic Operators"
   ]
  },
  {
   "cell_type": "markdown",
   "metadata": {},
   "source": [
    "- .+ = Addition\n",
    "- .- = Subtraction\n",
    "- .* = Multiplication\n",
    "- ./ = Division\n",
    "- .% = Modulus\n",
    "- .** = Exponentitation \n",
    "- .// = Floor division\n",
    "\n",
    "**Modulus:** a % b, It returns the remainder of dividing the left hand operand [a] by right hand operand [b]. It's used to get the remainder of a division problem. \n",
    "\n",
    "Example 7 % 2 = 1, Two goes into seven three times and there is one left over.\n",
    "\n",
    "**Floor division** a//b rounds the result down to the nearest whole number\n",
    "\n",
    "Example 15//2 = 7"
   ]
  },
  {
   "cell_type": "code",
   "execution_count": 9,
   "metadata": {},
   "outputs": [
    {
     "name": "stdout",
     "output_type": "stream",
     "text": [
      "15 -5\n",
      "15\n",
      "-5\n",
      "50\n",
      "0.5\n",
      "5\n",
      "9765625\n",
      "0\n",
      "15 -5 50 0.5 5 9765625 0\n"
     ]
    }
   ],
   "source": [
    "# Examples\n",
    "\n",
    "x = 5\n",
    "y = 10\n",
    "\n",
    "print(x + y, x - y)\n",
    "\n",
    "print(x + y) # Addition\n",
    "print(x - y) # Subtraction\n",
    "print(x * y) # Multiplication\n",
    "print(x / y) # Division\n",
    "print(x % y) # Modulus\n",
    "print(x ** y) # Exponentiation\n",
    "print(x // y) # Floor division\n",
    "\n",
    "print(x + y, x - y, x * y, x / y, x % y, x ** y, x // y)\n"
   ]
  },
  {
   "cell_type": "markdown",
   "metadata": {},
   "source": [
    "### 1.2 Assignment Operators"
   ]
  }
 ],
 "metadata": {
  "kernelspec": {
   "display_name": "Python 3.9.13 ('Python-Course-Hannes-Hedberg-29FBIT1T')",
   "language": "python",
   "name": "python3"
  },
  "language_info": {
   "codemirror_mode": {
    "name": "ipython",
    "version": 3
   },
   "file_extension": ".py",
   "mimetype": "text/x-python",
   "name": "python",
   "nbconvert_exporter": "python",
   "pygments_lexer": "ipython3",
   "version": "3.9.13"
  },
  "orig_nbformat": 4,
  "vscode": {
   "interpreter": {
    "hash": "c225418382cb9b5ed327af108c087245f0400ef7b129ef9d64855923a1b90743"
   }
  }
 },
 "nbformat": 4,
 "nbformat_minor": 2
}
