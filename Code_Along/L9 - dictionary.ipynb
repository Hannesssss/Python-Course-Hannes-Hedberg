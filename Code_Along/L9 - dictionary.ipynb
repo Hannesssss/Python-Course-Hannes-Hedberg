{
 "cells": [
  {
   "cell_type": "markdown",
   "metadata": {},
   "source": [
    "# Dictionary\n",
    "\n",
    "- datastructure that stores data in key:value pair"
   ]
  },
  {
   "cell_type": "code",
   "execution_count": 12,
   "metadata": {},
   "outputs": [
    {
     "name": "stdout",
     "output_type": "stream",
     "text": [
      "person dictionary {'name': 'Hannes', 'age': 31, 'work': 'Volvo', 'intrests': ['Computersience', 'animation', 'food', 'programming', 'walking'], 'phone': 311}\n",
      "person work Volvo\n",
      "person age 31\n",
      "person intrests ['Computersience', 'animation'] \n",
      "\n",
      "Hannes likes Computersience\n",
      "Hannes likes animation\n",
      "Hannes likes food\n",
      "Hannes likes programming\n",
      "Hannes likes walking\n"
     ]
    }
   ],
   "source": [
    "# create a dictionary with dict keyword\n",
    "person = dict(\n",
    "    name = \"Hannes\",\n",
    "    age = 31,\n",
    "    work = \"Volvo\",\n",
    "    intrests = [\"Computersience\", \"animation\", \"food\", \"programming\", \"walking\"],\n",
    "    phone = 311 \n",
    ")\n",
    "\n",
    "print(f\"person dictionary {person}\")\n",
    "print(f\"person work {person['work']}\")\n",
    "print(f\"person age {person['age']}\")\n",
    "\n",
    "print(f\"person intrests {person['intrests'][:2]} \\n\")\n",
    "\n",
    "for intrests in person[\"intrests\"]:\n",
    "    print(f\"Hannes likes {intrests}\")"
   ]
  },
  {
   "cell_type": "code",
   "execution_count": 16,
   "metadata": {},
   "outputs": [
    {
     "name": "stdout",
     "output_type": "stream",
     "text": [
      "{'assign': 'assigns a value to a variable', 'dictionary': 'datastructure to store data in value pairs', 'method': 'a function bound to an object'}\n",
      "Vi ska lära oss de här glosorna \n",
      "\n",
      "assign - assigns a value to a variable\n",
      "dictionary - datastructure to store data in value pairs\n",
      "method - a function bound to an object\n"
     ]
    }
   ],
   "source": [
    "# creates dictionary with curly brace {}\n",
    "words = {\n",
    "    \"assign\": \"assigns a value to a variable\", \n",
    "    \"dictionary\": \"datastructure to store data in value pairs\",\n",
    "    \"method\": \"a function bound to an object\",\n",
    "}\n",
    "\n",
    "print(words)\n",
    "print(\"Vi ska lära oss de här glosorna \\n\")\n",
    "\n",
    "for key in words:\n",
    "    print(key, \"-\" ,words[key])\n",
    "\n",
    "# f2 to mark a variable and edit all of it"
   ]
  },
  {
   "cell_type": "code",
   "execution_count": 20,
   "metadata": {},
   "outputs": [
    {
     "name": "stdout",
     "output_type": "stream",
     "text": [
      "assign               assigns a value to a variable\n",
      "dictionary           datastructure to store data in value pairs\n",
      "method               a function bound to an object\n"
     ]
    }
   ],
   "source": [
    "for key, value in words.items():\n",
    "    print(f\"{key:<20} {value}\") #key:<20 formatting"
   ]
  }
 ],
 "metadata": {
  "kernelspec": {
   "display_name": "Python 3.9.13 ('Python-Course-Hannes-Hedberg-l4PXsyfk')",
   "language": "python",
   "name": "python3"
  },
  "language_info": {
   "codemirror_mode": {
    "name": "ipython",
    "version": 3
   },
   "file_extension": ".py",
   "mimetype": "text/x-python",
   "name": "python",
   "nbconvert_exporter": "python",
   "pygments_lexer": "ipython3",
   "version": "3.9.13"
  },
  "orig_nbformat": 4,
  "vscode": {
   "interpreter": {
    "hash": "12c1cc2a8d787c8c736507f369f8b9921f38cbd9b049ed55876e2ae201bced5c"
   }
  }
 },
 "nbformat": 4,
 "nbformat_minor": 2
}
