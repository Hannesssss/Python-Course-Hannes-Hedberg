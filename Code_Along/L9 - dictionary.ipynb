{
 "cells": [
  {
   "cell_type": "markdown",
   "metadata": {},
   "source": [
    "# Dictionary\n",
    "\n",
    "- datastructure that stores data in key:value pair"
   ]
  },
  {
   "cell_type": "code",
   "execution_count": 12,
   "metadata": {},
   "outputs": [
    {
     "name": "stdout",
     "output_type": "stream",
     "text": [
      "person dictionary {'name': 'Hannes', 'age': 31, 'work': 'Volvo', 'intrests': ['Computersience', 'animation', 'food', 'programming', 'walking'], 'phone': 311}\n",
      "person work Volvo\n",
      "person age 31\n",
      "person intrests ['Computersience', 'animation'] \n",
      "\n",
      "Hannes likes Computersience\n",
      "Hannes likes animation\n",
      "Hannes likes food\n",
      "Hannes likes programming\n",
      "Hannes likes walking\n"
     ]
    }
   ],
   "source": [
    "# create a dictionary with dict keyword\n",
    "person = dict(\n",
    "    name = \"Hannes\",\n",
    "    age = 31,\n",
    "    work = \"Volvo\",\n",
    "    intrests = [\"Computersience\", \"animation\", \"food\", \"programming\", \"walking\"],\n",
    "    phone = 311 \n",
    ")\n",
    "\n",
    "print(f\"person dictionary {person}\")\n",
    "print(f\"person work {person['work']}\")\n",
    "print(f\"person age {person['age']}\")\n",
    "\n",
    "print(f\"person intrests {person['intrests'][:2]} \\n\")\n",
    "\n",
    "for intrests in person[\"intrests\"]:\n",
    "    print(f\"Hannes likes {intrests}\")"
   ]
  },
  {
   "cell_type": "code",
   "execution_count": 16,
   "metadata": {},
   "outputs": [
    {
     "name": "stdout",
     "output_type": "stream",
     "text": [
      "{'assign': 'assigns a value to a variable', 'dictionary': 'datastructure to store data in value pairs', 'method': 'a function bound to an object'}\n",
      "Vi ska lära oss de här glosorna \n",
      "\n",
      "assign - assigns a value to a variable\n",
      "dictionary - datastructure to store data in value pairs\n",
      "method - a function bound to an object\n"
     ]
    }
   ],
   "source": [
    "# creates dictionary with curly brace {}\n",
    "words = {\n",
    "    \"assign\": \"assigns a value to a variable\", \n",
    "    \"dictionary\": \"datastructure to store data in value pairs\",\n",
    "    \"method\": \"a function bound to an object\",\n",
    "}\n",
    "\n",
    "print(words)\n",
    "print(\"Vi ska lära oss de här glosorna \\n\")\n",
    "\n",
    "for key in words:\n",
    "    print(key, \"-\" ,words[key])\n",
    "\n",
    "# f2 to mark a variable and edit all of it"
   ]
  },
  {
   "cell_type": "code",
   "execution_count": 23,
   "metadata": {},
   "outputs": [
    {
     "name": "stdout",
     "output_type": "stream",
     "text": [
      "Glosor \n",
      "\n",
      "assign              assigns a value to a variable\n",
      "dictionary          datastructure to store data in value pairs\n",
      "method              a function bound to an object\n",
      "....................\n"
     ]
    }
   ],
   "source": [
    "print(\"Glosor \\n\")\n",
    "for key, value in words.items():\n",
    "    print(f\"{key:<20}{value}\") #key:<20 -> formatting right align with width 20\n",
    "\n",
    "print(\".\"*20)"
   ]
  },
  {
   "cell_type": "code",
   "execution_count": 29,
   "metadata": {},
   "outputs": [
    {
     "name": "stdout",
     "output_type": "stream",
     "text": [
      "{'F': 0, 'E': 10, 'D': 20, 'C': 30, 'B': 40, 'A': 50}\n"
     ]
    },
    {
     "data": {
      "text/plain": [
       "{'F': '<10',\n",
       " 'E': 10,\n",
       " 'D': 20,\n",
       " 'C': 30,\n",
       " 'B': 40,\n",
       " 'A': 50,\n",
       " 'Course': 'Programmering 1'}"
      ]
     },
     "execution_count": 29,
     "metadata": {},
     "output_type": "execute_result"
    }
   ],
   "source": [
    "# F < 10, E: 10, D: 20, C: 30, B: 40, A: 50\n",
    "\n",
    "# empty dictonary\n",
    "grade_limit = {}\n",
    "\n",
    "for i, character, in enumerate(\"ABCDEF\"[::-1]):\n",
    "    grade_limit[character] = i*10\n",
    "\n",
    "print(grade_limit)\n",
    "\n",
    "# assigns a new value that is associated with the key F\n",
    "grade_limit[\"F\"] = \"<10\"\n",
    "grade_limit[\"Course\"] = \"Programmering 1\"\n",
    "\n",
    "grade_limit"
   ]
  },
  {
   "cell_type": "markdown",
   "metadata": {},
   "source": [
    "## Dictonary comprehension"
   ]
  },
  {
   "cell_type": "code",
   "execution_count": 42,
   "metadata": {},
   "outputs": [
    {
     "name": "stdout",
     "output_type": "stream",
     "text": [
      "grade_limit={'F': 0, 'E': 10, 'D': 20, 'C': 30, 'B': 40, 'A': 50}\n",
      "scores=[39, 59, 34, 45, 23, 36, 37, 46, 10, 49, 52, 21, 24, 40, 50, 23, 58, 19, 25, 44, 13, 48, 42, 55, 58, 23, 6, 27, 52, 40]\n",
      "{'F': 1, 'E': 3, 'D': 7, 'C': 4, 'B': 8, 'A': 7}\n"
     ]
    }
   ],
   "source": [
    "import random as rnd\n",
    "\n",
    "grade_limit = {grade: i*10 for i, grade in enumerate(\"ABCDEF\"[::-1])}\n",
    "\n",
    "def generate_scores(number_students):\n",
    "    rnd.seed(1337)\n",
    "    scores = [rnd.randint(0,60) for _ in range(number_students)]\n",
    "    return scores\n",
    "\n",
    "scores = generate_scores(30)\n",
    "\n",
    "print(f\"{grade_limit=}\")\n",
    "print(f\"{scores=}\")\n",
    "\n",
    "# number of students in each category\n",
    "students_in_grade = {key: 0 for key in grade_limit}\n",
    "\n",
    "for score in scores:\n",
    "    for grade, limit in grade_limit.items():\n",
    "        if limit <= score < limit+10:\n",
    "            students_in_grade[grade] += 1\n",
    "            \n",
    "print(students_in_grade)\n",
    "    "
   ]
  },
  {
   "cell_type": "code",
   "execution_count": 44,
   "metadata": {},
   "outputs": [
    {
     "data": {
      "text/plain": [
       "30"
      ]
     },
     "execution_count": 44,
     "metadata": {},
     "output_type": "execute_result"
    }
   ],
   "source": [
    "total_students = 0\n",
    "for _, number_students in students_in_grade.items():\n",
    "    total_students += number_students\n",
    "\n",
    "total_students"
   ]
  },
  {
   "cell_type": "code",
   "execution_count": null,
   "metadata": {},
   "outputs": [],
   "source": []
  }
 ],
 "metadata": {
  "kernelspec": {
   "display_name": "Python 3.9.13 ('Python-Course-Hannes-Hedberg-l4PXsyfk')",
   "language": "python",
   "name": "python3"
  },
  "language_info": {
   "codemirror_mode": {
    "name": "ipython",
    "version": 3
   },
   "file_extension": ".py",
   "mimetype": "text/x-python",
   "name": "python",
   "nbconvert_exporter": "python",
   "pygments_lexer": "ipython3",
   "version": "3.9.13"
  },
  "orig_nbformat": 4,
  "vscode": {
   "interpreter": {
    "hash": "12c1cc2a8d787c8c736507f369f8b9921f38cbd9b049ed55876e2ae201bced5c"
   }
  }
 },
 "nbformat": 4,
 "nbformat_minor": 2
}
