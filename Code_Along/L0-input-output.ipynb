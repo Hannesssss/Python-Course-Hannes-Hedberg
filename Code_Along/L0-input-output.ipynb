{
 "cells": [
  {
   "cell_type": "markdown",
   "metadata": {},
   "source": [
    "# Code along - input-output"
   ]
  },
  {
   "cell_type": "code",
   "execution_count": 11,
   "metadata": {},
   "outputs": [
    {
     "name": "stdout",
     "output_type": "stream",
     "text": [
      "Hej Hannes, du är 25 gammal\n",
      "20\n"
     ]
    }
   ],
   "source": [
    "# variable - data type string\n",
    "# create a varialbe (\"box\") and assigns a value\n",
    "name = \"Hannes\"\n",
    "\n",
    "# variable - data type float\n",
    "\n",
    "age = 25\n",
    "\n",
    "# this is an f-string (fortmatted string), allows variables\n",
    "\n",
    "print(f\"Hej {name}, du är {age} gammal\")\n",
    "\n",
    "# reassigns\n",
    "# note: bad pratice\n",
    "name = 20\n",
    "\n",
    "print(name)"
   ]
  },
  {
   "cell_type": "markdown",
   "metadata": {},
   "source": [
    "## Inputs from user"
   ]
  },
  {
   "cell_type": "code",
   "execution_count": 12,
   "metadata": {},
   "outputs": [
    {
     "name": "stdout",
     "output_type": "stream",
     "text": [
      "Hello Hannes, you are 15 old\n"
     ]
    }
   ],
   "source": [
    "name = input(\"What is your name?\")\n",
    "age = input(\"What is your age?\")\n",
    "\n",
    "print (f\"Hello {name}, you are {age} old\")"
   ]
  },
  {
   "cell_type": "code",
   "execution_count": 13,
   "metadata": {},
   "outputs": [
    {
     "name": "stdout",
     "output_type": "stream",
     "text": [
      "Your force is 608.84N\n"
     ]
    }
   ],
   "source": [
    "gravity = 9.82\n",
    "mass = 62\n",
    "\n",
    "force = mass*gravity\n",
    "\n",
    "print(f\"Your force is {force}N\")"
   ]
  },
  {
   "cell_type": "code",
   "execution_count": 14,
   "metadata": {},
   "outputs": [],
   "source": [
    "mass = int(input(\"Enter your mass (kg): \"))\n",
    "\n",
    "# Cant multiply string with a float\n",
    "force = mass*gravity"
   ]
  },
  {
   "cell_type": "code",
   "execution_count": 15,
   "metadata": {},
   "outputs": [
    {
     "ename": "ValueError",
     "evalue": "invalid literal for int() with base 10: 'f'",
     "output_type": "error",
     "traceback": [
      "\u001b[1;31m---------------------------------------------------------------------------\u001b[0m",
      "\u001b[1;31mValueError\u001b[0m                                Traceback (most recent call last)",
      "\u001b[1;32mc:\\Users\\hh894\\OneDrive\\Skrivbord\\Github\\Python-Course-Hannes-Hedberg\\Code_Along\\L0-input-output.ipynb Cell 7\u001b[0m in \u001b[0;36m<cell line: 1>\u001b[1;34m()\u001b[0m\n\u001b[1;32m----> <a href='vscode-notebook-cell:/c%3A/Users/hh894/OneDrive/Skrivbord/Github/Python-Course-Hannes-Hedberg/Code_Along/L0-input-output.ipynb#X13sZmlsZQ%3D%3D?line=0'>1</a>\u001b[0m mass \u001b[39m=\u001b[39m \u001b[39mint\u001b[39;49m(\u001b[39minput\u001b[39;49m(\u001b[39m\"\u001b[39;49m\u001b[39mEnter your mass (kg): \u001b[39;49m\u001b[39m\"\u001b[39;49m))\n\u001b[0;32m      <a href='vscode-notebook-cell:/c%3A/Users/hh894/OneDrive/Skrivbord/Github/Python-Course-Hannes-Hedberg/Code_Along/L0-input-output.ipynb#X13sZmlsZQ%3D%3D?line=2'>3</a>\u001b[0m \u001b[39m# Cant multiply string with a float\u001b[39;00m\n\u001b[0;32m      <a href='vscode-notebook-cell:/c%3A/Users/hh894/OneDrive/Skrivbord/Github/Python-Course-Hannes-Hedberg/Code_Along/L0-input-output.ipynb#X13sZmlsZQ%3D%3D?line=3'>4</a>\u001b[0m force \u001b[39m=\u001b[39m mass\u001b[39m*\u001b[39mgravity\n",
      "\u001b[1;31mValueError\u001b[0m: invalid literal for int() with base 10: 'f'"
     ]
    }
   ],
   "source": [
    "mass = int(input(\"Enter your mass (kg): \"))\n",
    "\n",
    "# Cant multiply string with a float\n",
    "force = mass*gravity\n",
    "\n",
    "# :.1f -> rounds to 1 decimal\n",
    "# force= \n",
    "print(f\"{force=:.1f}N\")"
   ]
  },
  {
   "cell_type": "code",
   "execution_count": null,
   "metadata": {},
   "outputs": [],
   "source": [
    "print(f\"force={force}N\")"
   ]
  },
  {
   "cell_type": "code",
   "execution_count": null,
   "metadata": {},
   "outputs": [],
   "source": [
    "#to print curly brackets\n",
    "print(f\"{force} \\u007b \\u007d\")\n",
    "print(f\"{{}}\")"
   ]
  },
  {
   "cell_type": "code",
   "execution_count": null,
   "metadata": {},
   "outputs": [],
   "source": []
  }
 ],
 "metadata": {
  "kernelspec": {
   "display_name": "Python 3.9.13 ('Python-Course-Hannes-Hedberg-l4PXsyfk')",
   "language": "python",
   "name": "python3"
  },
  "language_info": {
   "codemirror_mode": {
    "name": "ipython",
    "version": 3
   },
   "file_extension": ".py",
   "mimetype": "text/x-python",
   "name": "python",
   "nbconvert_exporter": "python",
   "pygments_lexer": "ipython3",
   "version": "3.9.13"
  },
  "orig_nbformat": 4,
  "vscode": {
   "interpreter": {
    "hash": "12c1cc2a8d787c8c736507f369f8b9921f38cbd9b049ed55876e2ae201bced5c"
   }
  }
 },
 "nbformat": 4,
 "nbformat_minor": 2
}
