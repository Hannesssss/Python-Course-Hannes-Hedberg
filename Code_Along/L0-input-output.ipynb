{
 "cells": [
  {
   "cell_type": "markdown",
   "metadata": {},
   "source": [
    "# Code along - input-output"
   ]
  },
  {
   "cell_type": "code",
   "execution_count": 11,
   "metadata": {},
   "outputs": [
    {
     "name": "stdout",
     "output_type": "stream",
     "text": [
      "Hej Hannes, du är 25 gammal\n",
      "20\n"
     ]
    }
   ],
   "source": [
    "# variable - data type string\n",
    "# create a varialbe (\"box\") and assigns a value\n",
    "name = \"Hannes\"\n",
    "\n",
    "# variable - data type float\n",
    "\n",
    "age = 25\n",
    "\n",
    "# this is an f-string (fortmatted string), allows variables\n",
    "\n",
    "print(f\"Hej {name}, du är {age} gammal\")\n",
    "\n",
    "# reassigns\n",
    "# note: bad pratice\n",
    "name = 20\n",
    "\n",
    "print(name)"
   ]
  },
  {
   "cell_type": "markdown",
   "metadata": {},
   "source": [
    "## Inputs from user"
   ]
  },
  {
   "cell_type": "code",
   "execution_count": 12,
   "metadata": {},
   "outputs": [
    {
     "name": "stdout",
     "output_type": "stream",
     "text": [
      "Hello Hannes, you are 15 old\n"
     ]
    }
   ],
   "source": [
    "name = input(\"What is your name?\")\n",
    "age = input(\"What is your age?\")\n",
    "\n",
    "print (f\"Hello {name}, you are {age} old\")"
   ]
  },
  {
   "cell_type": "code",
   "execution_count": 13,
   "metadata": {},
   "outputs": [
    {
     "name": "stdout",
     "output_type": "stream",
     "text": [
      "Your force is 608.84N\n"
     ]
    }
   ],
   "source": [
    "gravity = 9.82\n",
    "mass = 62\n",
    "\n",
    "force = mass*gravity\n",
    "\n",
    "print(f\"Your force is {force}N\")"
   ]
  },
  {
   "cell_type": "code",
   "execution_count": 14,
   "metadata": {},
   "outputs": [],
   "source": [
    "mass = int(input(\"Enter your mass (kg): \"))\n",
    "\n",
    "# Cant multiply string with a float\n",
    "force = mass*gravity"
   ]
  },
  {
   "cell_type": "code",
   "execution_count": 2,
   "metadata": {},
   "outputs": [
    {
     "name": "stdout",
     "output_type": "stream",
     "text": [
      "force=9.8N\n"
     ]
    }
   ],
   "source": [
    "gravity = 9.82\n",
    "mass = int(input(\"Enter your mass (kg): \"))\n",
    "\n",
    "# Cant multiply string with a float\n",
    "force = mass*gravity\n",
    "\n",
    "# :.1f -> rounds to 1 decimal\n",
    "# force= \n",
    "print(f\"{force=:.1f}N\")"
   ]
  },
  {
   "cell_type": "code",
   "execution_count": 3,
   "metadata": {},
   "outputs": [
    {
     "name": "stdout",
     "output_type": "stream",
     "text": [
      "force=9.82N\n"
     ]
    }
   ],
   "source": [
    "print(f\"force={force}N\")"
   ]
  },
  {
   "cell_type": "code",
   "execution_count": 4,
   "metadata": {},
   "outputs": [
    {
     "name": "stdout",
     "output_type": "stream",
     "text": [
      "9.82 { }\n",
      "{}\n"
     ]
    }
   ],
   "source": [
    "#to print curly brackets\n",
    "print(f\"{force} \\u007b \\u007d\")\n",
    "print(f\"{{}}\")"
   ]
  },
  {
   "cell_type": "code",
   "execution_count": null,
   "metadata": {},
   "outputs": [],
   "source": []
  }
 ],
 "metadata": {
  "kernelspec": {
   "display_name": "Python 3.9.13 ('Python-Course-Hannes-Hedberg-29FBIT1T')",
   "language": "python",
   "name": "python3"
  },
  "language_info": {
   "codemirror_mode": {
    "name": "ipython",
    "version": 3
   },
   "file_extension": ".py",
   "mimetype": "text/x-python",
   "name": "python",
   "nbconvert_exporter": "python",
   "pygments_lexer": "ipython3",
   "version": "3.9.13"
  },
  "orig_nbformat": 4,
  "vscode": {
   "interpreter": {
    "hash": "c225418382cb9b5ed327af108c087245f0400ef7b129ef9d64855923a1b90743"
   }
  }
 },
 "nbformat": 4,
 "nbformat_minor": 2
}
