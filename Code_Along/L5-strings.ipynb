{
 "cells": [
  {
   "cell_type": "markdown",
   "metadata": {},
   "source": [
    "# Strings"
   ]
  },
  {
   "cell_type": "code",
   "execution_count": 3,
   "metadata": {},
   "outputs": [
    {
     "name": "stdout",
     "output_type": "stream",
     "text": [
      "Hannes Hedberg\n",
      "\n",
      "Name: Hannes Hedberg,\n",
      "Age: 25,\n",
      "Adress: Göteborg,\n",
      "Phone: 112\n",
      "\n"
     ]
    }
   ],
   "source": [
    "firstName = \"Hannes\"\n",
    "lastName = \"Hedberg\"\n",
    "\n",
    "# concatentate strings\n",
    "name = firstName +\" \"+ lastName # \" \" <-- Space\n",
    "age = 25\n",
    "adress = \"Göteborg\"\n",
    "phone = \"112\"\n",
    "\n",
    "print(name)\n",
    "\n",
    "# multiline f-string\n",
    "contact = f\"\"\"\n",
    "Name: {name},\n",
    "Age: {age},\n",
    "Adress: {adress},\n",
    "Phone: {phone}\n",
    "\"\"\"\n",
    "\n",
    "print(contact)"
   ]
  },
  {
   "cell_type": "markdown",
   "metadata": {},
   "source": [
    "## Concatunering"
   ]
  },
  {
   "cell_type": "code",
   "execution_count": 9,
   "metadata": {},
   "outputs": [
    {
     "name": "stdout",
     "output_type": "stream",
     "text": [
      "Plan \n",
      "Må: AI intro\n",
      "Ti: Python\n",
      "On: Matte\n",
      "To: Självstudier\n",
      "Fr: chilla\n",
      "\n"
     ]
    }
   ],
   "source": [
    "# Schedule is missing lö, stops printing when the shortest list is done.\n",
    "schedule = [\"AI intro\", \"Python\", \"Matte\", \"Självstudier\", \"chilla\"]\n",
    "days = [\"Må\", \"Ti\", \"On\", \"To\", \"Fr\", \"Lö\" ] \n",
    "\n",
    "# \\n => newline\n",
    "week_plan = \"Plan \\n\"\n",
    "\n",
    "# Plan\n",
    "# Må AI Intro\n",
    "# Ti: Python\n",
    "# ...\n",
    "\n",
    "for day, task in zip(days, schedule):\n",
    "    week_plan += f\"{day}: {task}\\n\"\n",
    "\n",
    "print(week_plan)"
   ]
  },
  {
   "cell_type": "markdown",
   "metadata": {},
   "source": [
    "## Indexing "
   ]
  },
  {
   "cell_type": "code",
   "execution_count": 16,
   "metadata": {},
   "outputs": [
    {
     "name": "stdout",
     "output_type": "stream",
     "text": [
      "quote[0]='!'\n",
      "quote[:6]='!False'\n",
      "quote[-4:]='true'\n",
      "Backwards: quote[::-1]='eurt sti esuaceb ynnuf sti - eslaF!'\n",
      "Length of string: 35 characters\n"
     ]
    }
   ],
   "source": [
    "quote = \"!False - its funny because its true\"\n",
    "\n",
    "print(f\"{quote[0]=}\")\n",
    "print(f\"{quote[:6]=}\")\n",
    "print(f\"{quote[-4:]=}\")\n",
    "\n",
    "\n",
    "# ::-1 for list of letters, change their order, list is printed backwards\n",
    "\n",
    "print(f\"Backwards: {quote[::-1]=}\")\n",
    "\n",
    "# len counts characters\n",
    "print(f\"Length of string: {len(quote)} characters\")"
   ]
  },
  {
   "cell_type": "markdown",
   "metadata": {},
   "source": [
    "## Split strings"
   ]
  },
  {
   "cell_type": "code",
   "execution_count": 29,
   "metadata": {},
   "outputs": [
    {
     "name": "stdout",
     "output_type": "stream",
     "text": [
      "numbers=[2.0, 3.0, 4.0]\n",
      "mean_value=3.0\n"
     ]
    }
   ],
   "source": [
    "# not possible\n",
    "#  numbers = float(input(\"Ange tre tal (separerade med kommatecken) ex 2,3,4: \"))\n",
    "numbers = input(\"Ange tre tal (separerade med kommatecken) ex 2,3,4: \")\n",
    "\n",
    "# 1. split the string into a list of 3 strings\n",
    "# 2. type convert each string in a float by iterating through the list\n",
    "\n",
    "numbers = [float(number) for number in numbers.split(\",\")]\n",
    "mean_value = sum(numbers)/len(numbers)\n",
    "\n",
    "print(f\"{numbers=}\")\n",
    "print(f\"{mean_value=}\")"
   ]
  },
  {
   "cell_type": "code",
   "execution_count": 31,
   "metadata": {},
   "outputs": [
    {
     "name": "stdout",
     "output_type": "stream",
     "text": [
      "Help on method_descriptor:\n",
      "\n",
      "split(self, /, sep=None, maxsplit=-1)\n",
      "    Return a list of the words in the string, using sep as the delimiter string.\n",
      "    \n",
      "    sep\n",
      "      The delimiter according which to split the string.\n",
      "      None (the default value) means split according to any whitespace,\n",
      "      and discard empty strings from the result.\n",
      "    maxsplit\n",
      "      Maximum number of splits to do.\n",
      "      -1 (the default value) means no limit.\n",
      "\n"
     ]
    }
   ],
   "source": [
    "# Documentation\n",
    "help(str.split)"
   ]
  },
  {
   "cell_type": "code",
   "execution_count": 32,
   "metadata": {},
   "outputs": [
    {
     "data": {
      "text/plain": [
       "['2', '3', '4']"
      ]
     },
     "execution_count": 32,
     "metadata": {},
     "output_type": "execute_result"
    }
   ],
   "source": [
    "# strings, cant be used for math, requires intregers\n",
    "\n",
    "numbers_test = \"2,3,4\"\n",
    "numbers_test.split(\",\")"
   ]
  },
  {
   "cell_type": "markdown",
   "metadata": {},
   "source": [
    "## Regular expression\n",
    "\n",
    "- find patterns in a string\n",
    "- e.g. phone, numbers, email, capital letters, sequences"
   ]
  },
  {
   "cell_type": "code",
   "execution_count": 33,
   "metadata": {},
   "outputs": [
    {
     "ename": "TypeError",
     "evalue": "findall() missing 1 required positional argument: 'string'",
     "output_type": "error",
     "traceback": [
      "\u001b[1;31m---------------------------------------------------------------------------\u001b[0m",
      "\u001b[1;31mTypeError\u001b[0m                                 Traceback (most recent call last)",
      "\u001b[1;32mc:\\Users\\hh894\\OneDrive\\Skrivbord\\Github\\Python-Course-Hannes-Hedberg\\Code_Along\\L5-strings.ipynb Cell 12\u001b[0m in \u001b[0;36m<cell line: 9>\u001b[1;34m()\u001b[0m\n\u001b[0;32m      <a href='vscode-notebook-cell:/c%3A/Users/hh894/OneDrive/Skrivbord/Github/Python-Course-Hannes-Hedberg/Code_Along/L5-strings.ipynb#X22sZmlsZQ%3D%3D?line=2'>3</a>\u001b[0m text \u001b[39m=\u001b[39m \u001b[39m\"\u001b[39m\u001b[39mMitt telefonnummer är 021-432512, Adas nummber är 042-321345, Bedas nummer är: 0739-242521\u001b[39m\u001b[39m\"\u001b[39m\n\u001b[0;32m      <a href='vscode-notebook-cell:/c%3A/Users/hh894/OneDrive/Skrivbord/Github/Python-Course-Hannes-Hedberg/Code_Along/L5-strings.ipynb#X22sZmlsZQ%3D%3D?line=4'>5</a>\u001b[0m \u001b[39m# extract the numbers\u001b[39;00m\n\u001b[0;32m      <a href='vscode-notebook-cell:/c%3A/Users/hh894/OneDrive/Skrivbord/Github/Python-Course-Hannes-Hedberg/Code_Along/L5-strings.ipynb#X22sZmlsZQ%3D%3D?line=5'>6</a>\u001b[0m \u001b[39m# W3 Schools Regex\u001b[39;00m\n\u001b[0;32m      <a href='vscode-notebook-cell:/c%3A/Users/hh894/OneDrive/Skrivbord/Github/Python-Course-Hannes-Hedberg/Code_Along/L5-strings.ipynb#X22sZmlsZQ%3D%3D?line=6'>7</a>\u001b[0m \u001b[39m# https://www.w3schools.com/python/python_regex.asp\u001b[39;00m\n\u001b[1;32m----> <a href='vscode-notebook-cell:/c%3A/Users/hh894/OneDrive/Skrivbord/Github/Python-Course-Hannes-Hedberg/Code_Along/L5-strings.ipynb#X22sZmlsZQ%3D%3D?line=8'>9</a>\u001b[0m match1 \u001b[39m=\u001b[39m re\u001b[39m.\u001b[39;49mfindall(\u001b[39m\"\u001b[39;49m\u001b[39m\\\u001b[39;49m\u001b[39md\u001b[39;49m\u001b[39m\\\u001b[39;49m\u001b[39md\u001b[39;49m\u001b[39m\\\u001b[39;49m\u001b[39md\u001b[39;49m\u001b[39m\"\u001b[39;49m)\n",
      "\u001b[1;31mTypeError\u001b[0m: findall() missing 1 required positional argument: 'string'"
     ]
    }
   ],
   "source": [
    "import re\n",
    "\n",
    "text = \"Mitt telefonnummer är 021-432512, Adas nummber är 042-321345, Bedas nummer är: 0739-242521\"\n",
    "\n",
    "# extract the numbers\n",
    "# W3 Schools Regex\n",
    "# https://www.w3schools.com/python/python_regex.asp\n",
    "\n",
    "match1 = re.findall(\"\\d\\d\\d-\\d\\d\\d\\d\\d\\d\", )\n",
    "\n",
    "\n"
   ]
  }
 ],
 "metadata": {
  "kernelspec": {
   "display_name": "Python 3.9.13 ('Python-Course-Hannes-Hedberg-l4PXsyfk')",
   "language": "python",
   "name": "python3"
  },
  "language_info": {
   "codemirror_mode": {
    "name": "ipython",
    "version": 3
   },
   "file_extension": ".py",
   "mimetype": "text/x-python",
   "name": "python",
   "nbconvert_exporter": "python",
   "pygments_lexer": "ipython3",
   "version": "3.9.13"
  },
  "orig_nbformat": 4,
  "vscode": {
   "interpreter": {
    "hash": "12c1cc2a8d787c8c736507f369f8b9921f38cbd9b049ed55876e2ae201bced5c"
   }
  }
 },
 "nbformat": 4,
 "nbformat_minor": 2
}
