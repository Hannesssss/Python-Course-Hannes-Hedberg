{
 "cells": [
  {
   "cell_type": "markdown",
   "metadata": {},
   "source": [
    "# Strings"
   ]
  },
  {
   "cell_type": "code",
   "execution_count": 3,
   "metadata": {},
   "outputs": [
    {
     "name": "stdout",
     "output_type": "stream",
     "text": [
      "Hannes Hedberg\n",
      "\n",
      "Name: Hannes Hedberg,\n",
      "Age: 25,\n",
      "Adress: Göteborg,\n",
      "Phone: 112\n",
      "\n"
     ]
    }
   ],
   "source": [
    "firstName = \"Hannes\"\n",
    "lastName = \"Hedberg\"\n",
    "\n",
    "# concatentate strings\n",
    "name = firstName +\" \"+ lastName # \" \" <-- Space\n",
    "age = 25\n",
    "adress = \"Göteborg\"\n",
    "phone = \"112\"\n",
    "\n",
    "print(name)\n",
    "\n",
    "# multiline f-string\n",
    "contact = f\"\"\"\n",
    "Name: {name},\n",
    "Age: {age},\n",
    "Adress: {adress},\n",
    "Phone: {phone}\n",
    "\"\"\"\n",
    "\n",
    "print(contact)"
   ]
  },
  {
   "cell_type": "code",
   "execution_count": 9,
   "metadata": {},
   "outputs": [
    {
     "name": "stdout",
     "output_type": "stream",
     "text": [
      "Plan \n",
      "Må: AI intro\n",
      "Ti: Python\n",
      "On: Matte\n",
      "To: Självstudier\n",
      "Fr: chilla\n",
      "\n"
     ]
    }
   ],
   "source": [
    "# Schedule is missing lö, stops printing when the shortest list is done.\n",
    "schedule = [\"AI intro\", \"Python\", \"Matte\", \"Självstudier\", \"chilla\"]\n",
    "days = [\"Må\", \"Ti\", \"On\", \"To\", \"Fr\", \"Lö\" ] \n",
    "\n",
    "# \\n => newline\n",
    "week_plan = \"Plan \\n\"\n",
    "\n",
    "# Plan\n",
    "# Må AI Intro\n",
    "# Ti: Python\n",
    "# ...\n",
    "\n",
    "for day, task in zip(days, schedule):\n",
    "    week_plan += f\"{day}: {task}\\n\"\n",
    "\n",
    "print(week_plan)"
   ]
  }
 ],
 "metadata": {
  "kernelspec": {
   "display_name": "Python 3.9.13 ('Python-Course-Hannes-Hedberg-l4PXsyfk')",
   "language": "python",
   "name": "python3"
  },
  "language_info": {
   "codemirror_mode": {
    "name": "ipython",
    "version": 3
   },
   "file_extension": ".py",
   "mimetype": "text/x-python",
   "name": "python",
   "nbconvert_exporter": "python",
   "pygments_lexer": "ipython3",
   "version": "3.9.13"
  },
  "orig_nbformat": 4,
  "vscode": {
   "interpreter": {
    "hash": "12c1cc2a8d787c8c736507f369f8b9921f38cbd9b049ed55876e2ae201bced5c"
   }
  }
 },
 "nbformat": 4,
 "nbformat_minor": 2
}
