{
 "cells": [
  {
   "cell_type": "markdown",
   "metadata": {},
   "source": [
    "# if-statments"
   ]
  },
  {
   "cell_type": "code",
   "execution_count": 1,
   "metadata": {},
   "outputs": [
    {
     "name": "stdout",
     "output_type": "stream",
     "text": [
      "Du är 15 år gammal, gränsen är 18\n",
      "Du får inte gå in på klubben\n"
     ]
    }
   ],
   "source": [
    "age = int(input(\"Hur gammal är du? \"))\n",
    "\n",
    "if age < 18:\n",
    "    print(f\"Du är {age} år gammal, gränsen är 18\")\n",
    "    print(\"Du får inte gå in på klubben\")\n",
    "\n",
    "else:\n",
    "    print(\"Välkommen in\")"
   ]
  },
  {
   "cell_type": "markdown",
   "metadata": {},
   "source": [
    "### if-else"
   ]
  },
  {
   "cell_type": "code",
   "execution_count": 2,
   "metadata": {},
   "outputs": [
    {
     "name": "stdout",
     "output_type": "stream",
     "text": [
      "Du får åka balder\n"
     ]
    }
   ],
   "source": [
    "age = 15\n",
    "height = 135\n",
    "\n",
    "# other languages && for and\n",
    "# || for or , alt + altgr + z\n",
    "\n",
    "if age > 10 and 130 < height <=210 :\n",
    "    print(\"Du får åka balder\")\n",
    "else: \n",
    "    print(\"Du får inte åka balder\")"
   ]
  },
  {
   "cell_type": "markdown",
   "metadata": {},
   "source": [
    "### Modulo Operator %\n",
    "\n",
    "Gives the rest after an interger division\n",
    "\n",
    "Ex\n",
    "\n",
    "5 % 3 = 2\n",
    "22 % 9 = 4"
   ]
  },
  {
   "cell_type": "code",
   "execution_count": 3,
   "metadata": {},
   "outputs": [
    {
     "name": "stdout",
     "output_type": "stream",
     "text": [
      "Jämt tal\n"
     ]
    }
   ],
   "source": [
    "#resten efter heltals division\n",
    "number = 42\n",
    "\n",
    "# 2 == checks if left is equal to right\n",
    "if number % 2 == 0:\n",
    "    print(\"Jämt tal\")"
   ]
  },
  {
   "cell_type": "code",
   "execution_count": 4,
   "metadata": {},
   "outputs": [
    {
     "name": "stdout",
     "output_type": "stream",
     "text": [
      "3==4: False\n",
      "3==3: True\n",
      "3>=3: False\n",
      "3!=3: False\n"
     ]
    }
   ],
   "source": [
    "print(f\"3==4: {3 == 4}\")\n",
    "print(f\"3==3: {3 == 3}\") # equal operator\n",
    "print(f\"3>=3: {3 == 4}\") # larger than operator or equal\n",
    "print(f\"3!=3: {3 != 3}\") # not equal operator"
   ]
  },
  {
   "cell_type": "markdown",
   "metadata": {},
   "source": [
    "## if - elif - else\n",
    "\n",
    "```py\n",
    "if condition:\n",
    "    statement_1\n",
    "    ...\n",
    "    statement_n\n",
    "elif condition:\n",
    "    statement_1\n",
    "    ...\n",
    "    statement_m\n",
    "...\n",
    "elif condition:\n",
    "    ...\n",
    "\n",
    "else: \n",
    "    statements\n",
    "    ...\n",
    "\n",
    "program contiues ...\n",
    "\n",
    "```\n",
    "\n",
    "Om if är false, går den vidare till elif, om den är false så går den vidare, till else. Är någon sann så hoppar programmet ner och forsätter."
   ]
  },
  {
   "cell_type": "code",
   "execution_count": 8,
   "metadata": {},
   "outputs": [
    {
     "name": "stdout",
     "output_type": "stream",
     "text": [
      "weight=25.0\n",
      "25.0\n",
      "Give patient 750 mg\n"
     ]
    }
   ],
   "source": [
    "#weight is a string here\n",
    "weight = float(input(\"Enter patients weight (kg): \"))\n",
    "print(f\"{weight=}\")\n",
    "\n",
    "#now we convert it to a float\n",
    "weight = float(weight)\n",
    "print(f\"{weight}\")\n",
    "\n",
    "if weight < 20:\n",
    "    print(\"Give patient 500 mg\")\n",
    "elif weight < 40: \n",
    "    print(\"Give patient 750 mg\")\n",
    "else:\n",
    "    print(\"Give patient 1000 mg\")"
   ]
  },
  {
   "cell_type": "markdown",
   "metadata": {},
   "source": [
    "## Nested if-statements"
   ]
  },
  {
   "cell_type": "code",
   "execution_count": 11,
   "metadata": {},
   "outputs": [
    {
     "name": "stdout",
     "output_type": "stream",
     "text": [
      "Not divisible by 5\n"
     ]
    }
   ],
   "source": [
    "number = 10\n",
    "\n",
    "if number % 5 == 0: \n",
    "    print (f\"{number} divisible by 5\")\n",
    "    if number % 2 == 0:\n",
    "        print(\"Even number\")\n",
    "    else:\n",
    "        print(\"Odd number\")\n",
    "\n",
    "else:\n",
    "    print(\"Not divisible by 5\")"
   ]
  },
  {
   "cell_type": "markdown",
   "metadata": {},
   "source": [
    "# while loop\n",
    "\n",
    "- \"if-loop\"\n",
    "- as long as a condition is True -> the statements inside the while loop run\n",
    "\n",
    "\n",
    "```py\n",
    "while condition:\n",
    "    statements\n",
    "```\n",
    "\n",
    "program contiues here"
   ]
  },
  {
   "cell_type": "code",
   "execution_count": 15,
   "metadata": {},
   "outputs": [
    {
     "name": "stdout",
     "output_type": "stream",
     "text": [
      "Heji=0\n",
      "Heji=1\n",
      "Heji=2\n",
      "Heji=3\n"
     ]
    }
   ],
   "source": [
    "i = 0 \n",
    "\n",
    "while i <4:\n",
    "    print(f\"Hej{i=}\")\n",
    "    i += 1 #adds one to i <=> i = i +1\n",
    "print(\"Program continues here\")"
   ]
  },
  {
   "cell_type": "markdown",
   "metadata": {},
   "source": [
    "## Example - birds and oil\n",
    "\n",
    "There is an oil leakage causing the bird population in an island to 1/2 in each year. From start there were 80 000 birds, how many years does it take for it to have 1/10 remaining?"
   ]
  },
  {
   "cell_type": "markdown",
   "metadata": {},
   "source": [
    "birds = 80000\n",
    "population = 8000\n",
    "\n",
    "while {birds} > {population}:\n",
    "    print (f\"{birds}\" / 2)\n"
   ]
  },
  {
   "cell_type": "code",
   "execution_count": 47,
   "metadata": {},
   "outputs": [
    {
     "name": "stdout",
     "output_type": "stream",
     "text": [
      "Year 1: number of birds 4000 left\n",
      "Year 2: number of birds 2000 left\n",
      "Year 3: number of birds 1000 left\n",
      "Year 4: number of birds 500 left\n"
     ]
    }
   ],
   "source": [
    "# birds = 80000\n",
    "# years = 0\n",
    "\n",
    "# Tuple unpacking\n",
    "birds, years = 8000, 0\n",
    "\n",
    "limit = birds/10\n",
    "\n",
    "while birds >= limit:\n",
    "    birds /= 2\n",
    "    years +=1\n",
    "    print(f\"Year {years}: number of birds {birds:.0f} left\")\n",
    "    #:.0f = whole numbers\n",
    "    #:.2f, two decimaler\n",
    "\n"
   ]
  },
  {
   "cell_type": "markdown",
   "metadata": {},
   "source": [
    "## Example - Milk\n",
    "\n",
    "- 1L of milk has 1 500 000 bacterias in room temprature\n",
    "- Bacterias increase with 50% each hour in room temp\n",
    "- Milk get soured after 10 000 000 bacterias\n",
    "- How many hours does it take until sours (whole hours)"
   ]
  },
  {
   "cell_type": "code",
   "execution_count": 48,
   "metadata": {},
   "outputs": [
    {
     "data": {
      "text/plain": [
       "1500000"
      ]
     },
     "execution_count": 48,
     "metadata": {},
     "output_type": "execute_result"
    }
   ],
   "source": [
    "#Writing large numbers\n",
    "\n",
    "int(1.5e6) "
   ]
  },
  {
   "cell_type": "code",
   "execution_count": 57,
   "metadata": {},
   "outputs": [
    {
     "name": "stdout",
     "output_type": "stream",
     "text": [
      "[1500000.0]\n",
      "[1500000.0, 2250000.0, 3375000.0, 5062500.0, 7593750.0, 11390625.0]\n",
      "It takes 5h for milk to get sour\n"
     ]
    },
    {
     "data": {
      "text/plain": [
       "[<matplotlib.lines.Line2D at 0x2ad9225d250>]"
      ]
     },
     "execution_count": 57,
     "metadata": {},
     "output_type": "execute_result"
    },
    {
     "data": {
      "image/png": "[encoded data removed]",
      "text/plain": [
       "<Figure size 640x480 with 1 Axes>"
      ]
     },
     "metadata": {},
     "output_type": "display_data"
    }
   ],
   "source": [
    "import matplotlib.pyplot as plt\n",
    "\n",
    "bacterias = 1.5e6 # 1.5 * 10^6\n",
    "factor = 1.5 #Bacteria increases with 50 % each hour, aka 1.5\n",
    "hours = 0 \n",
    "sour = 1e7 # 10^7\n",
    "\n",
    "bacterias_list  = [bacterias]\n",
    "\n",
    "print(bacterias_list)\n",
    "\n",
    "while bacterias < sour: \n",
    "    bacterias *= factor\n",
    "    hours += 1 \n",
    "    bacterias_list.append(bacterias)\n",
    "\n",
    "print(bacterias_list)\n",
    "print(f\"It takes {hours}h for milk to get sour\")\n",
    "\n",
    "\n",
    "# Creates a range object with numbers: 0,1,2,....,hours\n",
    "\n",
    "hours_list = range(0, hours+1)\n",
    "plt.plot(hours_list, bacterias_list)"
   ]
  }
 ],
 "metadata": {
  "kernelspec": {
   "display_name": "Python 3.9.13 ('Python-Course-Hannes-Hedberg-l4PXsyfk')",
   "language": "python",
   "name": "python3"
  },
  "language_info": {
   "codemirror_mode": {
    "name": "ipython",
    "version": 3
   },
   "file_extension": ".py",
   "mimetype": "text/x-python",
   "name": "python",
   "nbconvert_exporter": "python",
   "pygments_lexer": "ipython3",
   "version": "3.9.13"
  },
  "orig_nbformat": 4,
  "vscode": {
   "interpreter": {
    "hash": "12c1cc2a8d787c8c736507f369f8b9921f38cbd9b049ed55876e2ae201bced5c"
   }
  }
 },
 "nbformat": 4,
 "nbformat_minor": 2
}
