{
 "cells": [
  {
   "cell_type": "code",
   "execution_count": null,
   "metadata": {},
   "outputs": [],
   "source": [
    "import re\n",
    "\n",
    "class Person:\n",
    "    def _init_(self, name: str, age: int) --> None:\n",
    "        self.age = age\n",
    "        self.name = name\n",
    "    @property\n",
    "    def age(self) -> int:\n",
    "     return self._age\n",
    "\n",
    "    @age.setter\n",
    "    def age(self, value: int) -> None:\n",
    "     if not isinstance(value, int):\n",
    "           raise TypeError(f\"Age must be int or float not {type(value)._name_}\")\n",
    "        self._age = value\n",
    "\n",
    "    @property\n",
    "    def name(self) -> str:\n",
    "        return self._name\n",
    "\n",
    "    @name.setter\n",
    "    def name(self, value: str) -> None:\n",
    "     # bug in this regexp\n",
    "     if re.search(r\"^[A-ö]+(\\s[A-ö])+)?$\", value.strip()) is None:\n",
    "        raise ValueError(f\"{value.strip()} is not a valid name\")\n",
    "\n",
    "     self._name = value\n",
    "\n",
    "    def say_hi(self) -> None\n",
    "        print(f\"(Person {self.name} says hi\")\n",
    "\n",
    "class Student(Person):\n",
    "    pass\n",
    "\n",
    "student1 = Student(\"Ada\", 42)\n",
    "student1.say_hi()\n",
    "\n",
    "try:\n",
    "    p = Person(\" 4234\", 52)\n",
    "except ValueError as err:\n",
    "    print(err)"
   ]
  }
 ],
 "metadata": {
  "kernelspec": {
   "display_name": "Python 3.9.13 ('Python-Course-Hannes-Hedberg-l4PXsyfk')",
   "language": "python",
   "name": "python3"
  },
  "language_info": {
   "name": "python",
   "version": "3.9.13"
  },
  "orig_nbformat": 4,
  "vscode": {
   "interpreter": {
    "hash": "12c1cc2a8d787c8c736507f369f8b9921f38cbd9b049ed55876e2ae201bced5c"
   }
  }
 },
 "nbformat": 4,
 "nbformat_minor": 2
}
