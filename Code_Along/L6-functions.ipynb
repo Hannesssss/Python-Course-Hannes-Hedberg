{
 "cells": [
  {
   "cell_type": "markdown",
   "metadata": {},
   "source": [
    "# Functions"
   ]
  },
  {
   "cell_type": "code",
   "execution_count": 3,
   "metadata": {},
   "outputs": [
    {
     "name": "stdout",
     "output_type": "stream",
     "text": [
      "cuber(5)=125\n"
     ]
    },
    {
     "data": {
      "text/plain": [
       "[0, 1, 8, 27, 64, 125, 216, 343, 512, 729]"
      ]
     },
     "execution_count": 3,
     "metadata": {},
     "output_type": "execute_result"
    }
   ],
   "source": [
    "# define a function called cuber, it takes in 1 parameter\n",
    "def cuber(x):\n",
    "    return x**3\n",
    "\n",
    "# calls the function cuber using 1 argument\n",
    "print(f\"{cuber(5)=}\")\n",
    "cubes = [cuber(i) for i in range(10)]\n",
    "cubes"
   ]
  },
  {
   "cell_type": "code",
   "execution_count": null,
   "metadata": {},
   "outputs": [],
   "source": [
    "import matplotlib.pyplot as plt\n",
    "\n",
    "plt.plot(cubes); #mutes the output from jupiter"
   ]
  },
  {
   "cell_type": "code",
   "execution_count": null,
   "metadata": {},
   "outputs": [],
   "source": [
    "# 3 parameters\n",
    "def my_mean(number1, number2, number3):\n",
    "    print(f\"{number1=}, {number2=}, {number3=}\")\n",
    "    return (number1+number2+number3)/3\n",
    "\n",
    "# 3 arguments\n",
    "print(my_mean(1,3,6))\n",
    "print(my_mean(0,5,4))\n",
    "\n",
    "double_mean = my_mean(1,2,3)*2\n",
    "print(double_mean) "
   ]
  },
  {
   "cell_type": "markdown",
   "metadata": {},
   "source": [
    "## Default values"
   ]
  },
  {
   "cell_type": "code",
   "execution_count": null,
   "metadata": {},
   "outputs": [],
   "source": [
    "def hello(number_of_greetings, name = \"buddy\", age = 0):\n",
    "    for i in range(number_of_greetings):\n",
    "        print(f\"Hej {name}, du är {age} år\")\n",
    "    # note no return -> void function\n",
    "\n",
    "hello(2)\n",
    "\n",
    "hello(1, \"Bella\", \"1\")\n",
    "\n",
    "hello(1, 5, 1)"
   ]
  },
  {
   "cell_type": "code",
   "execution_count": null,
   "metadata": {},
   "outputs": [],
   "source": [
    "# number_of greetings = 1\n",
    "# age = 2\n",
    "def hello(number_of_greetings, name = \"buddy\", age = 0):\n",
    "    if float(age) < 0:\n",
    "        print(\"Ange en ålder >= 0\")\n",
    "        return\n",
    "\n",
    "    for i in range(number_of_greetings):\n",
    "        print(f\"Hej {name}, du är {age} år\")\n",
    "\n",
    "hello(2)\n",
    "\n",
    "hello(1, \"Bella\", \"1\")\n",
    "\n",
    "hello(1, \"bella\", -2)\n",
    "\n",
    "# age and name are keyword arguments\n",
    "# number_of_greetings is a positional argument\n",
    "hello(1, age = 34)"
   ]
  },
  {
   "cell_type": "code",
   "execution_count": null,
   "metadata": {},
   "outputs": [],
   "source": [
    "def word_counter(text = \"\"):\n",
    "    word_list = text.split()\n",
    "    return len(word_list)\n",
    "\n",
    "quote = \"No I am your father - Luke Skywalker\"\n",
    "word_counter(quote)"
   ]
  },
  {
   "cell_type": "markdown",
   "metadata": {},
   "source": [
    "## Arbitrary arguments - *args"
   ]
  },
  {
   "cell_type": "code",
   "execution_count": null,
   "metadata": {},
   "outputs": [],
   "source": [
    "def my_mean2(*numbers):\n",
    "    sum_ = 0\n",
    "    for number in numbers:\n",
    "        sum_ += number \n",
    "    return sum_/len(numbers)\n",
    "\n",
    "my_mean2(1,2,3,4,5)"
   ]
  },
  {
   "cell_type": "markdown",
   "metadata": {},
   "source": [
    "## Lambda\n",
    "\n",
    "- anonymous function"
   ]
  },
  {
   "cell_type": "code",
   "execution_count": null,
   "metadata": {},
   "outputs": [],
   "source": [
    "cuber = lambda x: x**3\n",
    "\n",
    "cuber(3)"
   ]
  },
  {
   "cell_type": "markdown",
   "metadata": {},
   "source": [
    "## Draw lines"
   ]
  },
  {
   "cell_type": "code",
   "execution_count": 1,
   "metadata": {},
   "outputs": [
    {
     "name": "stdout",
     "output_type": "stream",
     "text": [
      "range(-10, 10)\n",
      "[-10, -9, -8, -7, -6, -5, -4, -3, -2, -1, 0, 1, 2, 3, 4, 5, 6, 7, 8, 9]\n"
     ]
    },
    {
     "ename": "NameError",
     "evalue": "name 'plt' is not defined",
     "output_type": "error",
     "traceback": [
      "\u001b[1;31m---------------------------------------------------------------------------\u001b[0m",
      "\u001b[1;31mNameError\u001b[0m                                 Traceback (most recent call last)",
      "Cell \u001b[1;32mIn [1], line 12\u001b[0m\n\u001b[0;32m     10\u001b[0m x \u001b[39m=\u001b[39m \u001b[39mlist\u001b[39m(\u001b[39mrange\u001b[39m(\u001b[39m-\u001b[39m\u001b[39m10\u001b[39m, \u001b[39m10\u001b[39m))\n\u001b[0;32m     11\u001b[0m \u001b[39mprint\u001b[39m(x)\n\u001b[1;32m---> 12\u001b[0m draw_lines(x, title \u001b[39m=\u001b[39;49m \u001b[39m\"\u001b[39;49m\u001b[39mLines\u001b[39;49m\u001b[39m\"\u001b[39;49m)\n\u001b[0;32m     13\u001b[0m draw_lines(x, k\u001b[39m=\u001b[39m\u001b[39m-\u001b[39m\u001b[39m2\u001b[39m, m\u001b[39m=\u001b[39m\u001b[39m-\u001b[39m\u001b[39m1\u001b[39m, title \u001b[39m=\u001b[39m \u001b[39m\"\u001b[39m\u001b[39mLines\u001b[39m\u001b[39m\"\u001b[39m)\n",
      "Cell \u001b[1;32mIn [1], line 4\u001b[0m, in \u001b[0;36mdraw_lines\u001b[1;34m(x_list, k, m, title)\u001b[0m\n\u001b[0;32m      1\u001b[0m \u001b[39mdef\u001b[39;00m \u001b[39mdraw_lines\u001b[39m(x_list, k\u001b[39m=\u001b[39m\u001b[39m1\u001b[39m, m\u001b[39m=\u001b[39m\u001b[39m1\u001b[39m, title \u001b[39m=\u001b[39m \u001b[39m\"\u001b[39m\u001b[39m\"\u001b[39m):\n\u001b[0;32m      2\u001b[0m     y_list \u001b[39m=\u001b[39m [k\u001b[39m*\u001b[39mx\u001b[39m+\u001b[39mm \u001b[39mfor\u001b[39;00m x \u001b[39min\u001b[39;00m x_list]\n\u001b[1;32m----> 4\u001b[0m     plt\u001b[39m.\u001b[39mplot(x_list, y_list)\n\u001b[0;32m      5\u001b[0m     plt\u001b[39m.\u001b[39mxlabel(\u001b[39m\"\u001b[39m\u001b[39mx\u001b[39m\u001b[39m\"\u001b[39m)\n\u001b[0;32m      6\u001b[0m     plt\u001b[39m.\u001b[39mylabel(\u001b[39m\"\u001b[39m\u001b[39my\u001b[39m\u001b[39m\"\u001b[39m)\n",
      "\u001b[1;31mNameError\u001b[0m: name 'plt' is not defined"
     ]
    }
   ],
   "source": [
    "\n",
    "def draw_lines(x_list, k=1, m=1, title = \"\"):\n",
    "    y_list = [k*x+m for x in x_list]\n",
    "\n",
    "    plt.plot(x_list, y_list)\n",
    "    plt.xlabel(\"x\")\n",
    "    plt.ylabel(\"y\")\n",
    "    plt.title(title)\n",
    "\n",
    "print(range(-10,10))\n",
    "x = list(range(-10, 10))\n",
    "print(x)\n",
    "draw_lines(x, title = \"Lines\")\n",
    "draw_lines(x, k=-2, m=-1, title = \"Lines\")\n",
    "\n",
    "# TODO find intersection point and plot it"
   ]
  }
 ],
 "metadata": {
  "kernelspec": {
   "display_name": "Python 3.9.13 ('Python-Course-Hannes-Hedberg-l4PXsyfk')",
   "language": "python",
   "name": "python3"
  },
  "language_info": {
   "codemirror_mode": {
    "name": "ipython",
    "version": 3
   },
   "file_extension": ".py",
   "mimetype": "text/x-python",
   "name": "python",
   "nbconvert_exporter": "python",
   "pygments_lexer": "ipython3",
   "version": "3.9.13"
  },
  "orig_nbformat": 4,
  "vscode": {
   "interpreter": {
    "hash": "12c1cc2a8d787c8c736507f369f8b9921f38cbd9b049ed55876e2ae201bced5c"
   }
  }
 },
 "nbformat": 4,
 "nbformat_minor": 2
}
