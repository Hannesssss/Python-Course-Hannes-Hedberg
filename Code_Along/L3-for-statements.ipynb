{
 "cells": [
  {
   "cell_type": "markdown",
   "metadata": {},
   "source": [
    "# for loop"
   ]
  },
  {
   "cell_type": "code",
   "execution_count": 2,
   "metadata": {},
   "outputs": [],
   "source": [
    "i = 0\n",
    "while i < 5:\n",
    "    i += 1"
   ]
  },
  {
   "cell_type": "code",
   "execution_count": 3,
   "metadata": {},
   "outputs": [
    {
     "name": "stdout",
     "output_type": "stream",
     "text": [
      "0\n",
      "1\n",
      "2\n",
      "3\n",
      "4\n"
     ]
    }
   ],
   "source": [
    "for i in range(5):\n",
    "    print(i)"
   ]
  },
  {
   "cell_type": "code",
   "execution_count": 5,
   "metadata": {},
   "outputs": [
    {
     "name": "stdout",
     "output_type": "stream",
     "text": [
      "0 hej\n",
      "1 hej\n",
      "2 hej\n",
      "3 hej\n",
      "4 hej\n"
     ]
    }
   ],
   "source": [
    "for i in range(5):\n",
    "    print(i, \"hej\")\n",
    "\n",
    "    # Other languages\n",
    "    # i andra språk\n",
    "    # for (int i = 0; i < 5; i++) {\n",
    "    #   statements\n",
    "    # }"
   ]
  },
  {
   "cell_type": "code",
   "execution_count": 6,
   "metadata": {},
   "outputs": [
    {
     "name": "stdout",
     "output_type": "stream",
     "text": [
      "0 \t1 \t2 \t3 \t4 \t5 \t6 \t7 \t8 \t9 \t"
     ]
    }
   ],
   "source": [
    "for i in range(10):\n",
    "    print(i, end = \" \\t\")"
   ]
  },
  {
   "cell_type": "code",
   "execution_count": 9,
   "metadata": {},
   "outputs": [
    {
     "name": "stdout",
     "output_type": "stream",
     "text": [
      "0+1+2+...+9 = my_sum=45\n"
     ]
    }
   ],
   "source": [
    "my_sum = 0\n",
    "\n",
    "for i in range(10):\n",
    "    my_sum += i \n",
    "\n",
    "print(f\"0+1+2+...+9 = {my_sum=}\")"
   ]
  },
  {
   "cell_type": "markdown",
   "metadata": {},
   "source": [
    "## Loop through a list"
   ]
  },
  {
   "cell_type": "code",
   "execution_count": 10,
   "metadata": {},
   "outputs": [
    {
     "name": "stdout",
     "output_type": "stream",
     "text": [
      "rabbit\n",
      "guinea pig\n",
      "cat\n",
      "guppy\n"
     ]
    }
   ],
   "source": [
    "cute_animals = [\"rabbit\", \"guinea pig\", \"cat\", \"guppy\"]\n",
    "\n",
    "for animal in cute_animals:\n",
    "    print(animal)"
   ]
  },
  {
   "cell_type": "markdown",
   "metadata": {},
   "source": [
    "## Random Module"
   ]
  },
  {
   "cell_type": "code",
   "execution_count": 14,
   "metadata": {},
   "outputs": [
    {
     "name": "stdout",
     "output_type": "stream",
     "text": [
      "number_six=16773\n",
      "Proportion of sixes 0.16773\n"
     ]
    }
   ],
   "source": [
    "import random as rnd\n",
    "\n",
    "dice =rnd.randint(1,6)\n",
    "number_six = 0\n",
    "number_rolls = 100000\n",
    "\n",
    "for i in range(number_rolls):\n",
    "    dice = rnd.randint(1,6)\n",
    "    if dice == 6:\n",
    "        number_six += 1\n",
    "\n",
    "print(f\"{number_six=}\")\n",
    "print(f\"Proportion of sixes {number_six/number_rolls}\")\n",
    "\n",
    "# why does it seem to converge towards 1.66..."
   ]
  },
  {
   "cell_type": "code",
   "execution_count": 15,
   "metadata": {},
   "outputs": [
    {
     "name": "stdout",
     "output_type": "stream",
     "text": [
      "1960 0.791\n",
      "1961 0.8337202944651071\n",
      "1962 0.8787478247825345\n",
      "1963 0.926207200048378\n",
      "1964 0.9762297592415119\n",
      "1965 1.0289539346908139\n",
      "1966 1.0845256351725105\n",
      "1967 1.143098649697829\n",
      "1968 1.2048350731083948\n",
      "1969 1.2699057546571677\n",
      "1970 1.3384907708163183\n",
      "1971 1.4107799236204916\n",
      "1972 1.4869732659245734\n",
      "1973 1.5672816550295539\n",
      "1974 1.6519273362085967\n",
      "1975 1.7411445577481557\n",
      "1976 1.8351802192062083\n",
      "1977 1.9342945546815926\n",
      "1978 2.0387618529853224\n",
      "1979 2.148871216706891\n",
      "1980 2.2649273622761843\n",
      "1981 2.387251463235118\n",
      "1982 2.5161820390526426\n",
      "1983 2.652075891942835\n",
      "1984 2.795309094278624\n",
      "1985 2.9462780293337114\n",
      "1986 3.1054004882328408\n",
      "1987 3.2731168261461083\n",
      "1988 3.4498911809269663\n",
      "1989 3.636212757566379\n",
      "1990 3.8325971820177243\n",
      "1991 4.039587928139009\n",
      "1992 4.257757821701323\n",
      "1993 4.487710625625715\n",
      "1994 4.7300827108354735\n",
      "1995 4.985544817347741\n",
      "1996 5.254803910478061\n",
      "1997 5.538605137294772\n",
      "1998 5.837733888737488\n",
      "1999 6.153017973106388\n",
      "2000 6.485329906937236\n",
      "2001 6.835589329601868\n",
      "2002 7.204765548316323\n",
      "2003 7.593880220599677\n",
      "2004 8.00401018160697\n",
      "2005 8.436290424160655\n",
      "2006 8.891917239727412\n",
      "2007 9.372151529032744\n",
      "2008 9.87832229147507\n",
      "2009 10.41183030299599\n",
      "2010 10.974151992584753\n",
      "2011 11.566843528144881\n",
      "2012 12.191545123030048\n",
      "2013 12.849985575167194\n",
      "2014 13.543987051328413\n",
      "2015 14.275470129791556\n",
      "2016 15.046459115344698\n"
     ]
    }
   ],
   "source": [
    "import math\n",
    "\n",
    "tid, pasta_konsumtion = 0, 0\n",
    "\n",
    "while pasta_konsumtion < 15:\n",
    "    pasta_konsumtion = 0.791*math.e**(0.0526*tid)\n",
    "    print(tid+1960, pasta_konsumtion)\n",
    "    tid += 1\n"
   ]
  },
  {
   "cell_type": "markdown",
   "metadata": {},
   "source": [
    "While sats ^"
   ]
  },
  {
   "cell_type": "markdown",
   "metadata": {},
   "source": [
    "### Pasta\n",
    "\n",
    "Nationella prov matte 3c ht14 - uppgift 18"
   ]
  },
  {
   "cell_type": "code",
   "execution_count": null,
   "metadata": {},
   "outputs": [],
   "source": [
    "import math\n",
    "\n",
    "for year in range(10000):\n",
    "    pasta_consumption = .791*math.exp(.0526*year) #Samme som 0.791\n",
    "    if pasta_consumption >= 15:\n",
    "        print(f\"År {year+1960} är pastakonsumptionen 15kg/person per år\")\n",
    "        break\n",
    "\n"
   ]
  },
  {
   "cell_type": "code",
   "execution_count": 2,
   "metadata": {},
   "outputs": [
    {
     "ename": "NameError",
     "evalue": "name 'math' is not defined",
     "output_type": "error",
     "traceback": [
      "\u001b[1;31m---------------------------------------------------------------------------\u001b[0m",
      "\u001b[1;31mNameError\u001b[0m                                 Traceback (most recent call last)",
      "\u001b[1;32mc:\\Users\\hh894\\OneDrive\\Skrivbord\\Github\\Python-Course-Hannes-Hedberg\\Code_Along\\L3-for-statements.ipynb Cell 15\u001b[0m in \u001b[0;36m<cell line: 9>\u001b[1;34m()\u001b[0m\n\u001b[0;32m      <a href='vscode-notebook-cell:/c%3A/Users/hh894/OneDrive/Skrivbord/Github/Python-Course-Hannes-Hedberg/Code_Along/L3-for-statements.ipynb#X20sZmlsZQ%3D%3D?line=7'>8</a>\u001b[0m \u001b[39m#Loops 140 years\u001b[39;00m\n\u001b[0;32m      <a href='vscode-notebook-cell:/c%3A/Users/hh894/OneDrive/Skrivbord/Github/Python-Course-Hannes-Hedberg/Code_Along/L3-for-statements.ipynb#X20sZmlsZQ%3D%3D?line=8'>9</a>\u001b[0m \u001b[39mfor\u001b[39;00m year \u001b[39min\u001b[39;00m \u001b[39mrange\u001b[39m(\u001b[39m140\u001b[39m):\n\u001b[1;32m---> <a href='vscode-notebook-cell:/c%3A/Users/hh894/OneDrive/Skrivbord/Github/Python-Course-Hannes-Hedberg/Code_Along/L3-for-statements.ipynb#X20sZmlsZQ%3D%3D?line=9'>10</a>\u001b[0m     pasta_consumption \u001b[39m=\u001b[39m \u001b[39m.791\u001b[39m\u001b[39m*\u001b[39mmath\u001b[39m.\u001b[39mexp(\u001b[39m.0526\u001b[39m\u001b[39m*\u001b[39myear)\n\u001b[0;32m     <a href='vscode-notebook-cell:/c%3A/Users/hh894/OneDrive/Skrivbord/Github/Python-Course-Hannes-Hedberg/Code_Along/L3-for-statements.ipynb#X20sZmlsZQ%3D%3D?line=10'>11</a>\u001b[0m     \u001b[39m# append - adds an element to the list\u001b[39;00m\n\u001b[0;32m     <a href='vscode-notebook-cell:/c%3A/Users/hh894/OneDrive/Skrivbord/Github/Python-Course-Hannes-Hedberg/Code_Along/L3-for-statements.ipynb#X20sZmlsZQ%3D%3D?line=11'>12</a>\u001b[0m     pasta_per_year\u001b[39m.\u001b[39mappend(pasta_consumption)\n",
      "\u001b[1;31mNameError\u001b[0m: name 'math' is not defined"
     ]
    }
   ],
   "source": [
    "## b)\n",
    "\n",
    "import matplotlib.pyplot as plt\n",
    "\n",
    "# Creates an empty list\n",
    "pasta_per_year = []\n",
    "\n",
    "#Loops 140 years\n",
    "for year in range(140):\n",
    "    pasta_consumption = .791*math.exp(.0526*year)\n",
    "    # append - adds an element to the list\n",
    "    pasta_per_year.append(pasta_consumption)\n",
    "\n",
    "plt.plot(range(1960, 2100), pasta_per_year)\n",
    "plt.xlabel(\"År\")\n",
    "plt.ylabel(\"Pasta konsumtion i kg\")\n",
    "plt.title(\"Pasta konsumption/kg per person per år ifrån 1960\")\n",
    "\n",
    "print(\"MYCKET Pasta\")"
   ]
  }
 ],
 "metadata": {
  "kernelspec": {
   "display_name": "Python 3.9.13 ('Python-Course-Hannes-Hedberg-l4PXsyfk')",
   "language": "python",
   "name": "python3"
  },
  "language_info": {
   "codemirror_mode": {
    "name": "ipython",
    "version": 3
   },
   "file_extension": ".py",
   "mimetype": "text/x-python",
   "name": "python",
   "nbconvert_exporter": "python",
   "pygments_lexer": "ipython3",
   "version": "3.9.13"
  },
  "orig_nbformat": 4,
  "vscode": {
   "interpreter": {
    "hash": "12c1cc2a8d787c8c736507f369f8b9921f38cbd9b049ed55876e2ae201bced5c"
   }
  }
 },
 "nbformat": 4,
 "nbformat_minor": 2
}
