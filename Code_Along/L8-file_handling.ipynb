{
 "cells": [
  {
   "cell_type": "markdown",
   "metadata": {},
   "source": [
    "# File handling\n",
    "\n",
    "```py\n",
    "with open(path, option) as name:\n",
    "    statements ...\n",
    "```\n",
    "\n",
    "options\n",
    "- \"r\" - read\n",
    "- \"a\" - append to a file (if it doesnt exist - it will create the file)\n",
    "- \"w\" - write (if it doesnt exist - it will create the file)\n",
    "- \"x\" - create a file, error if it already exists"
   ]
  },
  {
   "cell_type": "code",
   "execution_count": 4,
   "metadata": {},
   "outputs": [
    {
     "name": "stdout",
     "output_type": "stream",
     "text": [
      "  If     we     knew what it was      we were doing, it would not be called research,          would it?     - Albert Einstein\n",
      "\n",
      "Time is a drug. Too       much of it kills you.  -  Terry Pratchett\n",
      "\n",
      "\n",
      " An expert is a person who       has made all the mistakes that           can be made in a          very narrow field - Niels Bohr\n",
      "\n",
      "   Everything must be made as simple as possible. But not simpler. - Albert Einstein     \n",
      "\n",
      "\n",
      "  Nothing in life                is to be feared, it is only to be understood. Now is the time to understand more, so that we may fear less. - Marie  Curie  \n",
      "\n",
      "If I have seen further     it is by standing on the shoulders of Giants. - Isaac Newton\n"
     ]
    }
   ],
   "source": [
    "path1 = \"../Data/quotes.txt\"\n",
    "\n",
    "with open(path1, \"r\") as f:\n",
    "    text = f.read()\n",
    "\n",
    "print(text)"
   ]
  },
  {
   "cell_type": "markdown",
   "metadata": {},
   "source": [
    "## Cleaning up quotes.txt\n",
    "\n",
    "- inspect txt-file manually (some prankster has added random noise in form of whitespace and newlines)\n",
    "- remove leading and trailing whitespaces\n",
    "- remove excessive white spaces in between\n",
    "- add quote numbers"
   ]
  },
  {
   "cell_type": "code",
   "execution_count": 35,
   "metadata": {},
   "outputs": [
    {
     "name": "stdout",
     "output_type": "stream",
     "text": [
      "1. If we knew what it was we were doing, it would not be called research, would it? - Albert Einstein\n",
      "If we knew what it was we were doing, it would not be called research, would it? - Albert Einstein\n",
      "\n",
      "2. Time is a drug. Too much of it kills you. - Terry Pratchett\n",
      "Time is a drug. Too much of it kills you. - Terry Pratchett\n",
      "\n",
      "\n",
      "3. An expert is a person who has made all the mistakes that can be made in a very narrow field - Niels Bohr\n",
      "An expert is a person who has made all the mistakes that can be made in a very narrow field - Niels Bohr\n",
      "\n",
      "4. Everything must be made as simple as possible. But not simpler. - Albert Einstein\n",
      "Everything must be made as simple as possible. But not simpler. - Albert Einstein\n",
      "\n",
      "\n",
      "5. Nothing in life is to be feared, it is only to be understood. Now is the time to understand more, so that we may fear less. - Marie Curie\n",
      "Nothing in life is to be feared, it is only to be understood. Now is the time to understand more, so that we may fear less. - Marie Curie\n",
      "\n",
      "6. If I have seen further it is by standing on the shoulders of Giants. - Isaac Newton\n",
      "If I have seen further it is by standing on the shoulders of Giants. - Isaac Newton\n"
     ]
    }
   ],
   "source": [
    "import re\n",
    "\n",
    "with open(path1, \"r\") as f_read, open(\"../Data/quotes_clean.txt\", \"w\") as f_write: # Opens file, to open another file do f_read2. overwrites, append \"a\" adds new lines\n",
    "    quote_number = 1\n",
    "\n",
    "    # loops through each line in the text file\n",
    "    for quote in f_read: \n",
    "        quote = quote.strip() # removes leading and trailing spaces and newlines\n",
    "        quote = re.sub(\" +\", \" \", quote) # regex to substitute >=1 whitespace with 1 whitespace \n",
    "\n",
    "        # write to new file if the line is not \"\" blank space\n",
    "        if quote != \"\":\n",
    "            f_write.write(f\"{quote_number}. {quote}\\n\")\n",
    "            print(f\"{quote_number}. {quote}\\n\", end=\"\")\n",
    "            quote_number += 1\n",
    "\n",
    "        print(quote) \n",
    "        # print(repr(quote)) shows all spaces\n"
   ]
  },
  {
   "cell_type": "markdown",
   "metadata": {},
   "source": [
    "## Pick out the authors\n",
    "\n",
    "- find digit to find quote \n",
    "- extract first and last names\n",
    "- join into full name\n",
    "- get unique values"
   ]
  },
  {
   "cell_type": "code",
   "execution_count": 38,
   "metadata": {},
   "outputs": [
    {
     "name": "stdout",
     "output_type": "stream",
     "text": [
      "[['Albert', 'Einstein'], ['Terry', 'Pratchett'], ['Niels', 'Bohr'], ['Albert', 'Einstein'], ['Marie', 'Curie'], ['Isaac', 'Newton'], [], ['Marie', 'Curie,']]\n",
      "{'', 'Marie Curie,', 'Isaac Newton', 'Terry Pratchett', 'Albert Einstein', 'Niels Bohr', 'Marie Curie'}\n"
     ]
    }
   ],
   "source": [
    "with open(\"../Data/quotes_clean.txt\", \"r\") as f_quotes, open(\"../Data/quotes_clean.txt\", \"a\") as f_append:\n",
    "    # reads in each line as a list\n",
    "    # strips away \"\\n\"\n",
    "    quotes = [quote.strip(\"\\n\") for quote in f_quotes.readlines()]\n",
    "    authors = [quote.split()[-2:] for quote in quotes]\n",
    "    print(authors)\n",
    "\n",
    "    # set - gives the unique elements\n",
    "    authors = set([\" \".join(author) for author in authors])\n",
    "    print(authors)\n",
    "\n",
    "    f_append.write(\"\\nAuthors: \")\n",
    "    for author in authors: \n",
    "        f_append.write(f\"{author}, \")"
   ]
  },
  {
   "cell_type": "code",
   "execution_count": 39,
   "metadata": {},
   "outputs": [
    {
     "data": {
      "text/plain": [
       "'Hannes Hedberg'"
      ]
     },
     "execution_count": 39,
     "metadata": {},
     "output_type": "execute_result"
    }
   ],
   "source": [
    "name = [[\"Hannes\", \"Hedberg\"]]\n",
    "\" \".join(name[0])"
   ]
  }
 ],
 "metadata": {
  "kernelspec": {
   "display_name": "Python 3.9.13 ('Python-Course-Hannes-Hedberg-l4PXsyfk')",
   "language": "python",
   "name": "python3"
  },
  "language_info": {
   "codemirror_mode": {
    "name": "ipython",
    "version": 3
   },
   "file_extension": ".py",
   "mimetype": "text/x-python",
   "name": "python",
   "nbconvert_exporter": "python",
   "pygments_lexer": "ipython3",
   "version": "3.9.13"
  },
  "orig_nbformat": 4,
  "vscode": {
   "interpreter": {
    "hash": "12c1cc2a8d787c8c736507f369f8b9921f38cbd9b049ed55876e2ae201bced5c"
   }
  }
 },
 "nbformat": 4,
 "nbformat_minor": 2
}
