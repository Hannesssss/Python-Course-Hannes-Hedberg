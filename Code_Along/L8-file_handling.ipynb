{
 "cells": [
  {
   "cell_type": "markdown",
   "metadata": {},
   "source": [
    "# File handling\n",
    "\n",
    "```py\n",
    "with open(path, option) as name:\n",
    "    statements ...\n",
    "```\n",
    "\n",
    "options\n",
    "- \"r\" - read\n",
    "- \"a\" - append to a file (if it doesnt exist - it will create the file)\n",
    "- \"w\" - write (if it doesnt exist - it will create the file)\n",
    "- \"x\" - create a file, error if it already exists"
   ]
  },
  {
   "cell_type": "code",
   "execution_count": null,
   "metadata": {},
   "outputs": [],
   "source": [
    "with open(\"../Data/quotes.txt\", \"r\") as f:\n",
    "    text = f.read()\n",
    "\n",
    "text"
   ]
  }
 ],
 "metadata": {
  "kernelspec": {
   "display_name": "Python 3.9.13 64-bit",
   "language": "python",
   "name": "python3"
  },
  "language_info": {
   "name": "python",
   "version": "3.9.13"
  },
  "orig_nbformat": 4,
  "vscode": {
   "interpreter": {
    "hash": "fd6ea60b5e09d232aba0656e3a55d37b6ff107aae37e59dd61ebf7e92f2e25b9"
   }
  }
 },
 "nbformat": 4,
 "nbformat_minor": 2
}
