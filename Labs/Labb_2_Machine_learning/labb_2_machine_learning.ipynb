{
 "cells": [
  {
   "cell_type": "markdown",
   "metadata": {},
   "source": [
    "# Labb 2\n",
    "\n",
    "## Machine learning"
   ]
  },
  {
   "cell_type": "markdown",
   "metadata": {},
   "source": [
    "### Goals\n",
    "- Read the data\n",
    "- Save data in cleaned filed\n",
    "- plot all dots, color coded to each class\n"
   ]
  },
  {
   "cell_type": "code",
   "execution_count": null,
   "metadata": {},
   "outputs": [],
   "source": [
    "# read files\n",
    "\n",
    "path1_datapoints = \"Data/datapoints.txt\"\n",
    "path2_testpoints = \"Data/testpoints.txt\"\n",
    "\n",
    "with open(path1_datapoints, \"r\") as f:\n",
    "    datapoints = f.read()\n",
    "\n",
    "with open(path2_testpoints, \"r\") as f:\n",
    "    testpoints = f.read()\n",
    "\n",
    "print(datapoints)\n",
    "print(testpoints)"
   ]
  },
  {
   "cell_type": "code",
   "execution_count": null,
   "metadata": {},
   "outputs": [],
   "source": [
    "import re\n",
    "\n",
    "with open(path1_datapoints, \"r\") as f_read, open(\"Data/Datapoints_clean.txt\", \"w\") as f_write: # Opens file, to open another file do f_read2. overwrites, append \"a\" adds new lines\n",
    "    quote_number = 1"
   ]
  }
 ],
 "metadata": {
  "kernelspec": {
   "display_name": "Python 3.9.13 ('Python-Course-Hannes-Hedberg-29FBIT1T')",
   "language": "python",
   "name": "python3"
  },
  "language_info": {
   "codemirror_mode": {
    "name": "ipython",
    "version": 3
   },
   "file_extension": ".py",
   "mimetype": "text/x-python",
   "name": "python",
   "nbconvert_exporter": "python",
   "pygments_lexer": "ipython3",
   "version": "3.9.13"
  },
  "orig_nbformat": 4,
  "vscode": {
   "interpreter": {
    "hash": "c225418382cb9b5ed327af108c087245f0400ef7b129ef9d64855923a1b90743"
   }
  }
 },
 "nbformat": 4,
 "nbformat_minor": 2
}
