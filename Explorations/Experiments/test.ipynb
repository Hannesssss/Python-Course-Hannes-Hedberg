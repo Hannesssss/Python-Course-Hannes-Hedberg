{
 "cells": [
  {
   "cell_type": "code",
   "execution_count": null,
   "metadata": {},
   "outputs": [],
   "source": [
    "import matplotlib.pyplot as plt\n",
    "\n",
    "f = lambda x: x**2\n",
    "y = [f(x) for x in range(-5,6)]\n",
    "x = range(-5,6)\n",
    "\n",
    "plt.plot(x,y)"
   ]
  },
  {
   "cell_type": "code",
   "execution_count": null,
   "metadata": {},
   "outputs": [],
   "source": [
    "number = int(input(f\"Enter a number: \"))\n",
    "\n",
    "if number == 0: \n",
    "    print(f\"{number} is equal to Zero\")\n",
    "elif number > 0: \n",
    "    print(f\"{number} is Postive\")\n",
    "elif number < 0:\n",
    "    print(f\"{number} is Negative\")"
   ]
  },
  {
   "cell_type": "code",
   "execution_count": null,
   "metadata": {},
   "outputs": [],
   "source": [
    "A = True\n",
    "B = False\n",
    "A if 5+5==9 else B"
   ]
  },
  {
   "cell_type": "code",
   "execution_count": null,
   "metadata": {},
   "outputs": [],
   "source": [
    "mass = 9.82\n",
    "gravity = 3.456\n",
    "\n",
    "print(f\"{mass * gravity=:.1f}\")"
   ]
  },
  {
   "cell_type": "code",
   "execution_count": null,
   "metadata": {},
   "outputs": [],
   "source": [
    "print(f\"{test=:.2f}\")"
   ]
  },
  {
   "cell_type": "code",
   "execution_count": null,
   "metadata": {},
   "outputs": [],
   "source": [
    "number = int(input(\"Number: \"))\n",
    "if number < 18:\n",
    "    print(f\"You are {number}, which is to young\")\n",
    "\n",
    "else:\n",
    "    print(\"Welcome\")"
   ]
  },
  {
   "cell_type": "code",
   "execution_count": null,
   "metadata": {},
   "outputs": [],
   "source": [
    "user = input(\"Hello \")\n",
    "a = print(\"HI\")\n",
    "b = print(\"BYE\")\n",
    "\n",
    "a if  user == \"Hello\" else b"
   ]
  },
  {
   "cell_type": "code",
   "execution_count": null,
   "metadata": {},
   "outputs": [],
   "source": [
    "a = 5 \n",
    "b = 10 \n",
    "a if a > b else b"
   ]
  },
  {
   "cell_type": "code",
   "execution_count": null,
   "metadata": {},
   "outputs": [],
   "source": [
    "# a if condition else b \n",
    "\n",
    "number = 42\n",
    "\n",
    "if number % 2 == 0:\n",
    "    print(\"Jämnt\")\n",
    "else:\n",
    "    print(\"Ojämnt\")"
   ]
  },
  {
   "cell_type": "code",
   "execution_count": null,
   "metadata": {},
   "outputs": [],
   "source": [
    "number = 42\n",
    "'jämnt' if number % 2 == 0 else \"Ojämnt\""
   ]
  },
  {
   "cell_type": "code",
   "execution_count": null,
   "metadata": {},
   "outputs": [],
   "source": [
    "print(f\"3==4: {3 == 4}\")\n"
   ]
  },
  {
   "cell_type": "code",
   "execution_count": null,
   "metadata": {},
   "outputs": [],
   "source": [
    "i = 0\n",
    "\n",
    "while i < 4:\n",
    "    print(f\"Hej {i=}\")\n",
    "    i += 1 \n",
    "print(\"Program\")"
   ]
  },
  {
   "cell_type": "code",
   "execution_count": null,
   "metadata": {},
   "outputs": [],
   "source": [
    "years = 0\n",
    "birds = 80000\n",
    "limit = birds/10\n",
    "while birds >= limit:\n",
    "    birds /=2\n",
    "    years +=1\n",
    "    print(f\"Year {years}: number of birds {birds:.2f} left\")"
   ]
  },
  {
   "cell_type": "code",
   "execution_count": null,
   "metadata": {},
   "outputs": [],
   "source": [
    "turtle = 0\n",
    "while turtle < 5000:\n",
    "    turtle = 500\n",
    "    turtle +=1000\n",
    "    print(turtle)"
   ]
  },
  {
   "cell_type": "code",
   "execution_count": null,
   "metadata": {},
   "outputs": [],
   "source": [
    "fish = 1000\n",
    "max_fish = 10000\n",
    "year = 0\n",
    "\n",
    "while fish <= max_fish:\n",
    "    fish += 1000\n",
    "print(f\"{fish}\")"
   ]
  },
  {
   "cell_type": "code",
   "execution_count": null,
   "metadata": {},
   "outputs": [],
   "source": [
    "a = 0\n",
    "b = 100\n",
    "while a < b:\n",
    "    a+=10\n",
    "    print(a)\n"
   ]
  },
  {
   "cell_type": "code",
   "execution_count": null,
   "metadata": {},
   "outputs": [],
   "source": [
    "print(int(1.5e9))"
   ]
  },
  {
   "cell_type": "code",
   "execution_count": null,
   "metadata": {},
   "outputs": [],
   "source": [
    "# How long will it take for fishermen to empty the lake?\n",
    "import matplotlib as plt\n",
    "\n",
    "fish = 1000\n",
    "months = 0\n",
    "\n",
    "while fish == 0:\n",
    "    fish /100\n",
    "    months +=1\n",
    "    print(f\"{fish} {months}\")\n",
    "\n",
    "\n",
    "print(\"HI\")"
   ]
  },
  {
   "cell_type": "code",
   "execution_count": null,
   "metadata": {},
   "outputs": [],
   "source": [
    "a = 100\n",
    "b = 100\n",
    "c = 0\n",
    "while a >= c:\n",
    "    a -= 10\n",
    "    print(a)"
   ]
  },
  {
   "cell_type": "code",
   "execution_count": null,
   "metadata": {},
   "outputs": [],
   "source": [
    "age = 20\n",
    "height = 180\n",
    "\n",
    "if age > 20 and 150 < height <=210:\n",
    "    print(\"välkom,men\")\n",
    "\n",
    "else:\n",
    "    print(\"Nej\") "
   ]
  },
  {
   "cell_type": "code",
   "execution_count": null,
   "metadata": {},
   "outputs": [],
   "source": [
    "age = 10\n",
    "height = 20\n",
    "\n",
    "\"Välkommen\" if age > 20 and 150 < height <=210 else \"Nej\""
   ]
  },
  {
   "cell_type": "code",
   "execution_count": null,
   "metadata": {},
   "outputs": [],
   "source": [
    "max_width = 100\n",
    "max_height = 150\n",
    "\n",
    "\"All aboard\" if max_width < 150 and max_height < 200 else \"nej\""
   ]
  },
  {
   "cell_type": "code",
   "execution_count": null,
   "metadata": {},
   "outputs": [],
   "source": [
    "lenght = 10\n",
    "height = 15\n",
    "width = 20\n",
    "weight = 25\n",
    "\n",
    "\"Perfect\" if lenght == 10 and height < 20 and  width == 20 and weight < 20 else \"nej\""
   ]
  },
  {
   "cell_type": "code",
   "execution_count": null,
   "metadata": {},
   "outputs": [],
   "source": [
    "a = 10\n",
    "b = 20\n",
    "\n",
    "\"GOod\" if a == b else \"bad\"\n",
    "\n",
    "\"Good\" if a < b else \"bad\"\n",
    "\n",
    "\"GOod\" if a == b or b == a else \"bad\"\n",
    "\n",
    "\"Good\" if a < 10 or b < 10 else \"bad\"\n",
    "\n",
    "\"Good\" if a < 10 and b < 10 else \"bad\"\n",
    "\n",
    "\"Good\" if a < 10 and not b < 10 else \"bad\""
   ]
  },
  {
   "cell_type": "code",
   "execution_count": null,
   "metadata": {},
   "outputs": [],
   "source": [
    "number = int(input())\n",
    "\n",
    "\"Jämt\" if number % 2 == 0 else \"Ojämnt\""
   ]
  },
  {
   "cell_type": "code",
   "execution_count": null,
   "metadata": {},
   "outputs": [],
   "source": [
    "weight = int(input())\n",
    "\"100mg\" if weight < 50 elif weight < 100 elif weight < 200"
   ]
  },
  {
   "cell_type": "code",
   "execution_count": null,
   "metadata": {},
   "outputs": [],
   "source": [
    "weight = int(input())\n",
    "\n",
    "if weight < 20:\n",
    "    print(\"y\")\n",
    "\n",
    "elif weight < 30:\n",
    "    print(\"n\")\n",
    "\n",
    "else: \n",
    "    print(\"aaaaaaaa\")"
   ]
  },
  {
   "cell_type": "code",
   "execution_count": null,
   "metadata": {},
   "outputs": [],
   "source": [
    "number = int(input())\n",
    "\n",
    "if number % 5 == 0:\n",
    "    print(f\"{number} is divisiable by 5\")\n",
    "    print(\"Even number\") if number % 2 == 0 else print(\"odd number\")\n",
    "else:\n",
    "    print(\"Not divadable by 5\")"
   ]
  },
  {
   "cell_type": "code",
   "execution_count": null,
   "metadata": {},
   "outputs": [],
   "source": [
    "number = 10\n",
    "\n",
    "if number % 5 == 0: \n",
    "    print (f\"{number} divisible by 5\")\n",
    "    if number % 2 == 0:\n",
    "        print(\"Even number\")\n",
    "    else:\n",
    "        print(\"Odd number\")\n",
    "\n",
    "else:\n",
    "    print(\"Not divisible by 5\")"
   ]
  },
  {
   "cell_type": "code",
   "execution_count": null,
   "metadata": {},
   "outputs": [],
   "source": [
    "\"Even number\" if number % 2 == 0 else \"odd number\""
   ]
  },
  {
   "cell_type": "code",
   "execution_count": null,
   "metadata": {},
   "outputs": [],
   "source": [
    "fruits_list = [\"apple\", \"banana\", \"cherry\"]\n",
    "\n",
    "for fruit in fruits_list:\n",
    "    print(fruit)"
   ]
  },
  {
   "cell_type": "code",
   "execution_count": null,
   "metadata": {},
   "outputs": [],
   "source": [
    "import random as rnd\n",
    "\n",
    "dice =rnd.randint(1,6)\n",
    "number_six = 0\n",
    "number_rolls = 100000\n",
    "\n",
    "for i in range(number_rolls):\n",
    "    dice = rnd.randint(1,6)\n",
    "    if dice == 6:\n",
    "        number_six += 1\n",
    "\n",
    "print(f\"{number_six=}\")\n",
    "print(f\"Proportion of sixes {number_six/number_rolls}\")"
   ]
  },
  {
   "cell_type": "code",
   "execution_count": null,
   "metadata": {},
   "outputs": [],
   "source": [
    "a = x\n",
    "b = y\n",
    "\n",
    "for row in range(a,b):\n",
    "    for col in range(a,b):\n",
    "        print(f\"({row}, {col})\", end= \" \")\n",
    "    print()"
   ]
  },
  {
   "cell_type": "code",
   "execution_count": null,
   "metadata": {},
   "outputs": [],
   "source": [
    "import matplotlib.pyplot as plt     # imports matplot module, allows drawing of functions, diagrams and more\n",
    "\n",
    "x = list(range(10))                 # assigns x to a list, which contains the range from 0-10\n",
    "y = [i**2 for i in x]               # makes y into a list, squared (**), and a for loop\n",
    "fig, ax = plt.figure(), plt.axes()  # plots figure and axes\n",
    "ax.plot(x,y)    # plots the x & y axes\n",
    "ax.set(title=\"Plot\", xlabel=\"x\", ylabel=\"y\")    # sets the title of the function as \"plot\", then assigns x as name for the x side, and y for the y side"
   ]
  },
  {
   "cell_type": "code",
   "execution_count": null,
   "metadata": {},
   "outputs": [],
   "source": [
    "import random as rnd\n",
    "\n",
    "dice = rnd.randint(1,6)\n",
    "number_rolls = 1000000\n",
    "number_six = 0\n",
    "number_five = 0\n",
    "number_four = 0\n",
    "number_three = 0\n",
    "number_two = 0\n",
    "number_one = 0\n",
    "\n",
    "for i in range(number_rolls):\n",
    "    dice = rnd.randint(1,6)\n",
    "    if dice == 6:\n",
    "        number_six+=1\n",
    "    elif dice == 5:\n",
    "        number_five +=1\n",
    "    elif dice == 4:\n",
    "        number_four +=1\n",
    "    elif dice == 3:\n",
    "        number_three +=1\n",
    "    elif dice == 2:\n",
    "        number_two +=1\n",
    "    elif dice == 1:\n",
    "        number_one +=1\n",
    "\n",
    "print(f\"{number_six=}, {number_five=}, {number_four=}, {number_three=}, {number_two=}, {number_one=}\\n\")\n",
    "print(f\"Number of Sixes: {number_six/number_rolls:.2f},\\n Number of Fives: {number_five/number_rolls:.2f},\\n Numbers of Fours: {number_four/number_rolls:.2f},\\n Number of Threes: {number_three/number_rolls:.2f},\\n Number of Twos: {number_two/number_rolls:.2f},\\n Number of Ones: {number_one/number_rolls:.2f}\\n\")"
   ]
  },
  {
   "cell_type": "code",
   "execution_count": null,
   "metadata": {},
   "outputs": [],
   "source": [
    "import random as rnd\n",
    "\n",
    "dice =rnd.randint(1,6)\n",
    "number_six = 0\n",
    "number_rolls = 100000\n",
    "\n",
    "for i in range(number_rolls):\n",
    "    dice = rnd.randint(1,6)\n",
    "    if dice == 6:\n",
    "        number_six += 1\n",
    "\n",
    "print(f\"{number_six=}\")\n",
    "print(f\"Proportion of sixes {number_six/number_rolls}\")"
   ]
  },
  {
   "cell_type": "code",
   "execution_count": null,
   "metadata": {},
   "outputs": [],
   "source": [
    "import math \n",
    "\n",
    "if volume = int\n",
    "    radius = int(input(\"Input raidus \"))\n",
    "volume = (radius**3 * math.pi * 4) / 3  \n",
    "\n",
    "print(volume)"
   ]
  },
  {
   "cell_type": "code",
   "execution_count": 118,
   "metadata": {},
   "outputs": [
    {
     "name": "stdout",
     "output_type": "stream",
     "text": [
      "523.5987755982989\n"
     ]
    }
   ],
   "source": [
    "import math\n",
    "\n",
    "try:\n",
    "    radius = int(radius)\n",
    "    radius = int(input(\"Input the radius \"))\n",
    "\n",
    "except ValueError:\n",
    "    print(\"Failed, please input a valid number\")\n",
    "\n",
    "if radius == True:\n",
    "    volume = radius**3 * math.pi * 4 / 3\n",
    "print(volume)"
   ]
  }
 ],
 "metadata": {
  "kernelspec": {
   "display_name": "Python 3.9.13 ('Python-Course-Hannes-Hedberg-29FBIT1T')",
   "language": "python",
   "name": "python3"
  },
  "language_info": {
   "codemirror_mode": {
    "name": "ipython",
    "version": 3
   },
   "file_extension": ".py",
   "mimetype": "text/x-python",
   "name": "python",
   "nbconvert_exporter": "python",
   "pygments_lexer": "ipython3",
   "version": "3.9.13"
  },
  "orig_nbformat": 4,
  "vscode": {
   "interpreter": {
    "hash": "c225418382cb9b5ed327af108c087245f0400ef7b129ef9d64855923a1b90743"
   }
  }
 },
 "nbformat": 4,
 "nbformat_minor": 2
}
