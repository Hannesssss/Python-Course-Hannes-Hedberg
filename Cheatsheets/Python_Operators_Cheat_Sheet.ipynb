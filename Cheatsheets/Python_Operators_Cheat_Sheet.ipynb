{
 "cells": [
  {
   "cell_type": "markdown",
   "metadata": {},
   "source": [
    "# Python Variables Cheatsheet"
   ]
  },
  {
   "cell_type": "markdown",
   "metadata": {},
   "source": [
    "## 0. User input"
   ]
  },
  {
   "cell_type": "code",
   "execution_count": 17,
   "metadata": {},
   "outputs": [
    {
     "name": "stdout",
     "output_type": "stream",
     "text": [
      "Username is 1\n"
     ]
    }
   ],
   "source": [
    "username = input(\"Enter username: \")\n",
    "print (\"Username is \" + username)"
   ]
  },
  {
   "cell_type": "markdown",
   "metadata": {},
   "source": [
    "## 1. Python Operators\n",
    "\n",
    "https://www.w3schools.com/python/python_operators.asp"
   ]
  },
  {
   "cell_type": "markdown",
   "metadata": {},
   "source": [
    "### 1.1 Arithmetic Operators"
   ]
  },
  {
   "cell_type": "markdown",
   "metadata": {},
   "source": [
    "Arithmetic operators are used with numeric values to perform common mathematical operations:\n",
    "\n",
    "- .+ = Addition\n",
    "- .- = Subtraction\n",
    "- .* = Multiplication\n",
    "- ./ = Division\n",
    "- .% = Modulus\n",
    "- .** = Exponentitation \n",
    "- .// = Floor division\n",
    "\n",
    "**Modulus:** a % b, It returns the remainder of dividing the left hand operand [a] by right hand operand [b]. It's used to get the remainder of a division problem. \n",
    "\n",
    "Example 7 % 2 = 1, Two goes into seven three times and there is one left over.\n",
    "\n",
    "**Floor division** a//b rounds the result down to the nearest whole number\n",
    "\n",
    "Example 15//2 = 7"
   ]
  },
  {
   "cell_type": "markdown",
   "metadata": {},
   "source": [
    "#### Example:"
   ]
  },
  {
   "cell_type": "code",
   "execution_count": 18,
   "metadata": {},
   "outputs": [
    {
     "name": "stdout",
     "output_type": "stream",
     "text": [
      "15 -5\n",
      "15\n",
      "-5\n",
      "50\n",
      "0.5\n",
      "5\n",
      "9765625\n",
      "0\n",
      "15 -5 50 0.5 5 9765625 0\n"
     ]
    }
   ],
   "source": [
    "x = 5\n",
    "y = 10\n",
    "\n",
    "print(x + y, x - y)\n",
    "\n",
    "print(x + y) # Addition\n",
    "print(x - y) # Subtraction\n",
    "print(x * y) # Multiplication\n",
    "print(x / y) # Division\n",
    "print(x % y) # Modulus\n",
    "print(x ** y) # Exponentiation\n",
    "print(x // y) # Floor division\n",
    "\n",
    "print(x + y, x - y, x * y, x / y, x % y, x ** y, x // y)\n"
   ]
  },
  {
   "cell_type": "markdown",
   "metadata": {},
   "source": [
    "### 1.2 Assignment Operators"
   ]
  },
  {
   "cell_type": "markdown",
   "metadata": {},
   "source": [
    "Assignment operators are used to assign values to variables:\n",
    "\n",
    "[insert markdown list]"
   ]
  },
  {
   "cell_type": "code",
   "execution_count": 19,
   "metadata": {},
   "outputs": [
    {
     "name": "stdout",
     "output_type": "stream",
     "text": [
      "8\n",
      "2\n",
      "15\n",
      "1.6666666666666667\n",
      "2\n",
      "1\n",
      "125\n"
     ]
    }
   ],
   "source": [
    "# Simple examples\n",
    "\n",
    "x = 5\n",
    "x += 3\n",
    "print(x)\n",
    "\n",
    "x = 5\n",
    "x -= 3\n",
    "print(x)\n",
    "\n",
    "x = 5\n",
    "x *= 3\n",
    "print(x)\n",
    "\n",
    "x = 5\n",
    "x /= 3\n",
    "print(x)\n",
    "\n",
    "x = 5\n",
    "x%=3\n",
    "print(x)\n",
    "\n",
    "x = 5\n",
    "x//=3\n",
    "print(x)\n",
    "\n",
    "x = 5\n",
    "x **= 3\n",
    "print(x)"
   ]
  },
  {
   "cell_type": "code",
   "execution_count": 20,
   "metadata": {},
   "outputs": [
    {
     "name": "stdout",
     "output_type": "stream",
     "text": [
      "1\n",
      "7\n",
      "6\n",
      "0\n",
      "40\n"
     ]
    }
   ],
   "source": [
    "# Advanced examples\n",
    "\n",
    "x = 5\n",
    "x &= 3\n",
    "print(x)\n",
    "\n",
    "x = 5\n",
    "x |= 3\n",
    "print(x)\n",
    "\n",
    "x = 5\n",
    "x ^= 3\n",
    "print(x)\n",
    "\n",
    "x = 5\n",
    "x >>= 3\n",
    "print(x)\n",
    "\n",
    "x = 5\n",
    "x <<= 3\n",
    "print(x)"
   ]
  },
  {
   "cell_type": "markdown",
   "metadata": {},
   "source": [
    "### 1.3 Python Comparison Operators"
   ]
  },
  {
   "cell_type": "markdown",
   "metadata": {},
   "source": [
    "Comparison operators are used to compare two values:\n",
    "\n",
    "[insert markdown list]"
   ]
  },
  {
   "cell_type": "code",
   "execution_count": 21,
   "metadata": {},
   "outputs": [
    {
     "data": {
      "text/plain": [
       "False"
      ]
     },
     "execution_count": 21,
     "metadata": {},
     "output_type": "execute_result"
    }
   ],
   "source": [
    "x == y # Equal\n",
    "x != y # Not Equal\n",
    "x > y # Greather than\n",
    "x < y # Less than\n",
    "x >= y # Greater than or equal to\n",
    "x <= y # Less than or equal to  "
   ]
  },
  {
   "cell_type": "markdown",
   "metadata": {},
   "source": [
    "#### Example:"
   ]
  },
  {
   "cell_type": "code",
   "execution_count": 22,
   "metadata": {},
   "outputs": [
    {
     "name": "stdout",
     "output_type": "stream",
     "text": [
      "True\n"
     ]
    }
   ],
   "source": [
    "x = 5\n",
    "y = 5\n",
    "x == y\n",
    "print(x==y)"
   ]
  },
  {
   "cell_type": "markdown",
   "metadata": {},
   "source": [
    "### 1.4 Python Logical Operators"
   ]
  },
  {
   "cell_type": "markdown",
   "metadata": {},
   "source": [
    "Logical operators are used to combine conditional statements:"
   ]
  },
  {
   "cell_type": "code",
   "execution_count": 23,
   "metadata": {},
   "outputs": [
    {
     "data": {
      "text/plain": [
       "False"
      ]
     },
     "execution_count": 23,
     "metadata": {},
     "output_type": "execute_result"
    }
   ],
   "source": [
    "x and y # Returns True if both statements are true\n",
    "x or y # Returns True if one of the statements is true \n",
    "not(x and y) # Reverse the result, returns False if the result is True"
   ]
  },
  {
   "cell_type": "markdown",
   "metadata": {},
   "source": [
    "#### Example:"
   ]
  },
  {
   "cell_type": "code",
   "execution_count": 24,
   "metadata": {},
   "outputs": [
    {
     "name": "stdout",
     "output_type": "stream",
     "text": [
      "True\n",
      "True\n",
      "False\n"
     ]
    }
   ],
   "source": [
    "x = 5\n",
    "print(x > 3 and x < 10)\n",
    "print(x > 3 or x < 10)\n",
    "print(not(x > 3 and x < 10))"
   ]
  },
  {
   "cell_type": "markdown",
   "metadata": {},
   "source": [
    "### 1.5 Python Identity Operators"
   ]
  },
  {
   "cell_type": "markdown",
   "metadata": {},
   "source": [
    "Identity operators are used to compare the objects, not if they are equal, but if they are actually the same object, with the same memory location:"
   ]
  },
  {
   "cell_type": "code",
   "execution_count": 25,
   "metadata": {},
   "outputs": [
    {
     "data": {
      "text/plain": [
       "False"
      ]
     },
     "execution_count": 25,
     "metadata": {},
     "output_type": "execute_result"
    }
   ],
   "source": [
    "x is y # Returns True if both variables are the same object\n",
    "x is not y # Returns True if both variables are not the same object"
   ]
  },
  {
   "cell_type": "markdown",
   "metadata": {},
   "source": [
    "#### Example:"
   ]
  },
  {
   "cell_type": "code",
   "execution_count": 26,
   "metadata": {},
   "outputs": [
    {
     "name": "stdout",
     "output_type": "stream",
     "text": [
      "True\n",
      "False\n",
      "True\n"
     ]
    }
   ],
   "source": [
    "x = [\"apple\", \"banana\"]\n",
    "y = [\"apple\", \"banana\"]\n",
    "z = x\n",
    "\n",
    "print(x is z) # returns True because z is the same object as x\n",
    "print(x is y) # returns False because x is not the same object as y, even if they have the same content\n",
    "print(x == y) # to demonstrate the difference betweeen \"is\" and \"==\": this comparison returns True because x is equal to y"
   ]
  },
  {
   "cell_type": "code",
   "execution_count": 27,
   "metadata": {},
   "outputs": [
    {
     "name": "stdout",
     "output_type": "stream",
     "text": [
      "False\n",
      "True\n",
      "False\n"
     ]
    }
   ],
   "source": [
    "x = [\"apple\", \"banana\"]\n",
    "y = [\"apple\", \"banana\"]\n",
    "z = x\n",
    "\n",
    "print(x is not z) # returns False because z is the same object as x\n",
    "print(x is not y) # returns True because x is not the same object as y, even if they have the same content\n",
    "print(x != y) # to demonstrate the difference betweeen \"is not\" and \"!=\": this comparison returns False because x is equal to y"
   ]
  },
  {
   "cell_type": "markdown",
   "metadata": {},
   "source": [
    "### 1.6 Python Membership Operators "
   ]
  },
  {
   "cell_type": "markdown",
   "metadata": {},
   "source": [
    "Membership operators are used to test if a sequence is presented in an object:"
   ]
  },
  {
   "cell_type": "code",
   "execution_count": 28,
   "metadata": {},
   "outputs": [
    {
     "data": {
      "text/plain": [
       "True"
      ]
     },
     "execution_count": 28,
     "metadata": {},
     "output_type": "execute_result"
    }
   ],
   "source": [
    "x in y # Returns True if a sequence with the specified value is present in the object\n",
    "x not in y # Returns True if a sequence with the specified value is not present in the object"
   ]
  },
  {
   "cell_type": "markdown",
   "metadata": {},
   "source": [
    "#### Example: "
   ]
  },
  {
   "cell_type": "code",
   "execution_count": 30,
   "metadata": {},
   "outputs": [
    {
     "name": "stdout",
     "output_type": "stream",
     "text": [
      "True\n",
      "True\n"
     ]
    }
   ],
   "source": [
    "x = [\"apple\", \"banana\"]\n",
    "\n",
    "print(\"banana\" in x) # returns True because a sequence with the value \"banana\" is in the list\n",
    "print(\"pineapple\" not in x) # returns True because a sequence with the value \"pineapple\" is not in the list"
   ]
  },
  {
   "cell_type": "markdown",
   "metadata": {},
   "source": [
    "### 1.7 Python Bitwise Operators"
   ]
  },
  {
   "cell_type": "markdown",
   "metadata": {},
   "source": [
    "Bitwise operators are used to compare (binary) numbers:"
   ]
  },
  {
   "cell_type": "code",
   "execution_count": null,
   "metadata": {},
   "outputs": [],
   "source": [
    "x & y # AND, Sets each bit to 1 if both bits are 1\n",
    "x | y # OR, Sets each bit to 1 if one of two bits is 1\n",
    "x ^ y # XOR, Sets each bit to 1 if only one of two bits is 1\n",
    "x ~ y # NOT, Inverts all the bits\n",
    "x << y # Zero fill left shift, Shift left by pushing zeros in from the right and let the leftmost bits fall off\n",
    "x >> y # Signed right shift, Shift right by pushing copies of the leftmost bit in from the left, and let the rightmost bits fall off"
   ]
  }
 ],
 "metadata": {
  "kernelspec": {
   "display_name": "Python 3.9.13 ('Python-Course-Hannes-Hedberg-29FBIT1T')",
   "language": "python",
   "name": "python3"
  },
  "language_info": {
   "codemirror_mode": {
    "name": "ipython",
    "version": 3
   },
   "file_extension": ".py",
   "mimetype": "text/x-python",
   "name": "python",
   "nbconvert_exporter": "python",
   "pygments_lexer": "ipython3",
   "version": "3.9.13"
  },
  "orig_nbformat": 4,
  "vscode": {
   "interpreter": {
    "hash": "c225418382cb9b5ed327af108c087245f0400ef7b129ef9d64855923a1b90743"
   }
  }
 },
 "nbformat": 4,
 "nbformat_minor": 2
}
