{
 "cells": [
  {
   "cell_type": "markdown",
   "metadata": {},
   "source": [
    "# Python Exercies 2"
   ]
  },
  {
   "cell_type": "markdown",
   "metadata": {},
   "source": [
    "### if statements exercises"
   ]
  },
  {
   "cell_type": "markdown",
   "metadata": {},
   "source": [
    "#### 1. Check sign (*)"
   ]
  },
  {
   "cell_type": "markdown",
   "metadata": {},
   "source": [
    "Ask the user to input a number and check if this number is positive, negative or zero and print it out."
   ]
  },
  {
   "cell_type": "code",
   "execution_count": 2,
   "metadata": {},
   "outputs": [
    {
     "name": "stdout",
     "output_type": "stream",
     "text": [
      "5 is Postive\n"
     ]
    }
   ],
   "source": [
    "number = int(input(f\"Enter a number: \"))\n",
    "\n",
    "if number == 0: \n",
    "    print(f\"{number} is equal to Zero\")\n",
    "elif number > 0: \n",
    "    print(f\"{number} is Postive\")\n",
    "elif number < 0:\n",
    "    print(f\"{number} is Negative\")"
   ]
  },
  {
   "cell_type": "markdown",
   "metadata": {},
   "source": [
    "#### 2. Smallest (*)"
   ]
  },
  {
   "cell_type": "markdown",
   "metadata": {},
   "source": [
    "Ask the user to input two numbers and check which one is the smallest and print it out."
   ]
  },
  {
   "cell_type": "code",
   "execution_count": 3,
   "metadata": {},
   "outputs": [
    {
     "name": "stdout",
     "output_type": "stream",
     "text": [
      "The numbers have the same value\n"
     ]
    }
   ],
   "source": [
    "number1 = int(input(\"Enter the first number: \"))\n",
    "number2 = int(input(\"Enter the second number: \"))\n",
    "\n",
    "if number1 > number2:\n",
    "    print (f\"{number2} is smaller\")\n",
    "elif number1 < number2:\n",
    "    print(f\"{number1} is smaller\")\n",
    "if number1 == number2:\n",
    "    print(f\"The numbers have the same value\")"
   ]
  },
  {
   "cell_type": "markdown",
   "metadata": {},
   "source": [
    "#### 3. Right angle (*)"
   ]
  },
  {
   "cell_type": "markdown",
   "metadata": {},
   "source": [
    "Ask the user to input three angles and check if the triangle has a right angle. Your code should make sure that all three angles are valid and make up a triangle."
   ]
  },
  {
   "cell_type": "code",
   "execution_count": 4,
   "metadata": {},
   "outputs": [
    {
     "name": "stdout",
     "output_type": "stream",
     "text": [
      "The triangle is not right angeled\n",
      "Its not a valid triangle\n"
     ]
    }
   ],
   "source": [
    "# Triangles are 180 degrees\n",
    "# Right triangles have one side with 90 degress\n",
    "# The two remaning inputs need to add up to 90\n",
    "\n",
    "triangle_value1 = int(input(\"Enter the first number: \"))\n",
    "triangle_value2 = int(input(\"Enter the second number: \"))\n",
    "triangle_value3 = int(input(\"Enter the third number: \"))\n",
    "\n",
    "if triangle_value1 == 90 or triangle_value2 == 90 or triangle_value3 == 90:\n",
    "    print(\"The triangle is right angeled\")\n",
    "else: \n",
    "    print(\"The triangle is not right angeled\")\n",
    "\n",
    "if triangle_value1 + triangle_value2 + triangle_value3 == 180:\n",
    "    print(\"Its a valid triangle\")\n",
    "else: \n",
    "    print(\"Its not a valid triangle\")"
   ]
  },
  {
   "cell_type": "markdown",
   "metadata": {},
   "source": [
    "#### 4. Medicine (*)"
   ]
  },
  {
   "cell_type": "markdown",
   "metadata": {},
   "source": [
    "The information in the following table is stated in a medicine package. Also it is stated that for children weight is more important than age.\n",
    "\n",
    "\n",
    "| Category    | Age                 | Number of pills                        |\n",
    "| ------------------------------ | ---------------------------------- |-- |\n",
    "| Adults & adolescent over 40 kg | over 12 years | 1-2\n",
    "| Children 26-40 kg | 7-12 years | 1/2-1 |\n",
    "| Children 15-25 kg | 3-7 years  | 1/2 |\n",
    "\n",
    "Let the user input an age and a weight, the program should recommend the number of pills for the user.\n",
    "\n"
   ]
  },
  {
   "cell_type": "code",
   "execution_count": 5,
   "metadata": {},
   "outputs": [
    {
     "name": "stdout",
     "output_type": "stream",
     "text": [
      "Recommended dosage 1/2-1 (one and a half) pills\n"
     ]
    }
   ],
   "source": [
    "# two categories, weight and age\n",
    "age = int(input(\"Enter age: \"))\n",
    "weight = int(input(\"Enter weight (kg): \"))\n",
    "\n",
    "# weight has priority over age\n",
    "if age > 12 or weight > 40: \n",
    "    print(\"Recommended dosage 1-2 (one or two) pills\")\n",
    "\n",
    "elif age >= 7 or age <= 12 or weight >= 26 or weight <= 40:\n",
    "    print(\"Recommended dosage 1/2-1 (one and a half) pills\") \n",
    "\n",
    "elif age >= 3 or age < 7 or weight >= 15 or weight <= 25:\n",
    "    print(\"Recommended dosage 1/2 (half) pill\")"
   ]
  },
  {
   "cell_type": "code",
   "execution_count": 6,
   "metadata": {},
   "outputs": [
    {
     "name": "stdout",
     "output_type": "stream",
     "text": [
      "Recommended dosage 1/2-1 (one and a half) pills\n"
     ]
    }
   ],
   "source": [
    "# two categories, weight and age\n",
    "age = int(input(\"Enter age: \"))\n",
    "weight = int(input(\"Enter weight (kg): \"))\n",
    "\n",
    "# weight has priority over age\n",
    "if age > 12:\n",
    "    print(\"Recommended dosage 1-2 (one or two) pills\")\n",
    "\n",
    "elif weight > 40: \n",
    "    print(\"Recommended dosage 1-2 (one or two) pills\")\n",
    "\n",
    "if age >= 7 or age <= 12:\n",
    "    print(\"Recommended dosage 1/2-1 (one and a half) pills\")\n",
    "\n",
    "elif weight >= 26 or weight <= 40:\n",
    "    print(\"Recommended dosage 1/2-1 (one and a half) pills\")"
   ]
  },
  {
   "cell_type": "markdown",
   "metadata": {},
   "source": [
    "#### 5. Divisible (*)\n",
    "\n",
    "Let the user input a number. Check if the number is\n",
    "\n",
    "1. even or odd\n",
    "2. is divisible by 5\n",
    "3. is divisible by 5 and odd"
   ]
  },
  {
   "cell_type": "code",
   "execution_count": 7,
   "metadata": {},
   "outputs": [
    {
     "name": "stdout",
     "output_type": "stream",
     "text": [
      "The number is odd\n",
      "The number is not divisible by 5\n",
      "The number not either not divisible by 5 or its an odd number\n"
     ]
    }
   ],
   "source": [
    "number_input1 = int(input((\"Input a number: \")))\n",
    "\n",
    "if (number_input1 % 2) == 0:\n",
    "    print(\"The number is even\")\n",
    "\n",
    "else: \n",
    "    print (\"The number is odd\")\n",
    "\n",
    "if (number_input1 // 5) == 5:\n",
    "    print(\"The number is divisble by 5\")\n",
    "\n",
    "else: \n",
    "    print(\"The number is not divisible by 5\")\n",
    "\n",
    "if (number_input1 // 5) == 5 and (number_input1 % 1) == 0: \n",
    "    print(\"The number is divisilbe by 5 and odd\")\n",
    "\n",
    "else: \n",
    "    print(\"The number not either not divisible by 5 or its an odd number\") "
   ]
  },
  {
   "cell_type": "markdown",
   "metadata": {},
   "source": [
    "#### 6. Luggage size (*)"
   ]
  },
  {
   "cell_type": "markdown",
   "metadata": {},
   "source": [
    "The maximum allowed luggage size for boarding an airplane is:\n",
    "\n",
    "- weight: 8kg\n",
    "- dimensions: 55x40x23 (length x width x height)\n",
    "\n",
    "Let the user input weight, length, width and height of the luggage. The program should check if the luggage is allowed or not."
   ]
  },
  {
   "cell_type": "code",
   "execution_count": 8,
   "metadata": {},
   "outputs": [
    {
     "name": "stdout",
     "output_type": "stream",
     "text": [
      "Welcome onboard\n"
     ]
    }
   ],
   "source": [
    "weight = int(input((\"Input weight: \")))\n",
    "lenght = int(input((\"Input lenght: \")))\n",
    "width = int(input((\"Input width: \")))\n",
    "height = int(input((\"Input height: \")))\n",
    "\n",
    "if weight > 8:\n",
    "    print(\"The luggage is to heavy\")\n",
    "\n",
    "if lenght > 55 or width > 40 or height > 23:\n",
    "    print(\"The luggage is to large\")\n",
    "\n",
    "else: \n",
    "    print(\"Welcome onboard\")"
   ]
  }
 ],
 "metadata": {
  "kernelspec": {
   "display_name": "Python 3.9.13 ('Python-Course-Hannes-Hedberg-29FBIT1T')",
   "language": "python",
   "name": "python3"
  },
  "language_info": {
   "codemirror_mode": {
    "name": "ipython",
    "version": 3
   },
   "file_extension": ".py",
   "mimetype": "text/x-python",
   "name": "python",
   "nbconvert_exporter": "python",
   "pygments_lexer": "ipython3",
   "version": "3.9.13"
  },
  "orig_nbformat": 4,
  "vscode": {
   "interpreter": {
    "hash": "c225418382cb9b5ed327af108c087245f0400ef7b129ef9d64855923a1b90743"
   }
  }
 },
 "nbformat": 4,
 "nbformat_minor": 2
}
