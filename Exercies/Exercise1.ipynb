{
 "cells": [
  {
   "cell_type": "markdown",
   "metadata": {},
   "source": [
    "# Python Exercies 1"
   ]
  },
  {
   "cell_type": "markdown",
   "metadata": {},
   "source": [
    "### Count with Python"
   ]
  },
  {
   "cell_type": "markdown",
   "metadata": {},
   "source": [
    "#### 1. Pytagorean Theorem"
   ]
  },
  {
   "cell_type": "markdown",
   "metadata": {},
   "source": [
    "##### A)"
   ]
  },
  {
   "cell_type": "code",
   "execution_count": 36,
   "metadata": {},
   "outputs": [
    {
     "name": "stdout",
     "output_type": "stream",
     "text": [
      "5.0\n"
     ]
    }
   ],
   "source": [
    "\n",
    "# Catheis\n",
    "a = 3\n",
    "b = 4\n",
    "\n",
    "c = a**2 + b**2 \n",
    "\n",
    "import math\n",
    "\n",
    "sqrtroot = math.sqrt(c)\n",
    "print(sqrtroot)\n"
   ]
  },
  {
   "cell_type": "markdown",
   "metadata": {},
   "source": [
    "##### B)"
   ]
  },
  {
   "cell_type": "code",
   "execution_count": 42,
   "metadata": {},
   "outputs": [
    {
     "name": "stdout",
     "output_type": "stream",
     "text": [
      "sqrtroot=4.9\n"
     ]
    }
   ],
   "source": [
    "# Catheis\n",
    "a = 5\n",
    "\n",
    "# Hypothenuse\n",
    "c = 7\n",
    "\n",
    "b = c**2 - a**2\n",
    "\n",
    "import math\n",
    "\n",
    "sqrtroot = math.sqrt(b)\n",
    "print(f\"{sqrtroot=:.1f}\")"
   ]
  },
  {
   "cell_type": "markdown",
   "metadata": {},
   "source": [
    "#### 2. Classification accuracy"
   ]
  },
  {
   "cell_type": "markdown",
   "metadata": {},
   "source": [
    "A machine learning algorithm has been trained to predict whether or not it would rain the next day. Out of 365 predictions, it got 300 correct, compute the accuracy of this model."
   ]
  },
  {
   "cell_type": "code",
   "execution_count": 7,
   "metadata": {},
   "outputs": [
    {
     "name": "stdout",
     "output_type": "stream",
     "text": [
      "The accuray of this model is 0.82%\n"
     ]
    }
   ],
   "source": [
    "year = 365\n",
    "prediction = 300\n",
    "print (f\"The accuray of this model is {prediction / year:.2f}%\")"
   ]
  },
  {
   "cell_type": "markdown",
   "metadata": {},
   "source": [
    "#### 3. More Classification accuracy"
   ]
  },
  {
   "cell_type": "code",
   "execution_count": 1,
   "metadata": {},
   "outputs": [
    {
     "name": "stdout",
     "output_type": "stream",
     "text": [
      "The accuracy of the model is at 0.987 , which means it works roughly 98,7% of the times.\n"
     ]
    }
   ],
   "source": [
    "tp = 2 #True Postive\n",
    "fp = 2 #False Positve  \n",
    "fn = 11 #False Negative\n",
    "tn = 985 #True Negative\n",
    "\n",
    "print(f\"The accuracy of the model is at {(tp + tn) / (tp + tn + fp + fn):.3f} , which means it works roughly 98,7% of the times.\")"
   ]
  },
  {
   "cell_type": "markdown",
   "metadata": {},
   "source": [
    "#### 4. Line"
   ]
  },
  {
   "cell_type": "markdown",
   "metadata": {},
   "source": [
    "Compute the slope K and the constant term M of this line using the points A:(4,4) and B:(0,1)\n",
    "\n",
    "y = kx+m"
   ]
  },
  {
   "cell_type": "code",
   "execution_count": null,
   "metadata": {},
   "outputs": [],
   "source": []
  },
  {
   "cell_type": "markdown",
   "metadata": {},
   "source": [
    "#### 5. Euclidean distance"
   ]
  },
  {
   "cell_type": "code",
   "execution_count": 1,
   "metadata": {},
   "outputs": [
    {
     "name": "stdout",
     "output_type": "stream",
     "text": [
      "1/1=1.0sum is now: 1.0\n",
      "1/2=0.5sum is now: 1.5\n",
      "1/4=0.25sum is now: 1.75\n",
      "1/8=0.125sum is now: 1.875\n",
      "1/16=0.0625sum is now: 1.9375\n",
      "1/32=0.03125sum is now: 1.96875\n",
      "1/64=0.015625sum is now: 1.984375\n",
      "1/128=0.0078125sum is now: 1.9921875\n",
      "1/256=0.00390625sum is now: 1.99609375\n",
      "1/512=0.001953125sum is now: 1.998046875\n",
      "1/1024=0.0009765625sum is now: 1.9990234375\n"
     ]
    }
   ],
   "source": [
    "sum, t, b, a = 1, 1, 1, 0\n",
    "\n",
    "while b <= 1024:\n",
    "    sum = t / b\n",
    "    print(f\"{t}/{b}={sum}\", end='')\n",
    "    b = b + b\n",
    "    a = a + sum\n",
    "    print(f\"sum is now: {a}\")"
   ]
  },
  {
   "cell_type": "markdown",
   "metadata": {},
   "source": [
    "#### 6. Euclidean distance in 3D"
   ]
  },
  {
   "cell_type": "code",
   "execution_count": null,
   "metadata": {},
   "outputs": [],
   "source": []
  }
 ],
 "metadata": {
  "kernelspec": {
   "display_name": "Python 3.9.13 ('Python-Course-Hannes-Hedberg-l4PXsyfk')",
   "language": "python",
   "name": "python3"
  },
  "language_info": {
   "codemirror_mode": {
    "name": "ipython",
    "version": 3
   },
   "file_extension": ".py",
   "mimetype": "text/x-python",
   "name": "python",
   "nbconvert_exporter": "python",
   "pygments_lexer": "ipython3",
   "version": "3.9.13"
  },
  "orig_nbformat": 4,
  "vscode": {
   "interpreter": {
    "hash": "12c1cc2a8d787c8c736507f369f8b9921f38cbd9b049ed55876e2ae201bced5c"
   }
  }
 },
 "nbformat": 4,
 "nbformat_minor": 2
}
